{
 "cells": [
  {
   "cell_type": "code",
   "execution_count": 1,
   "metadata": {},
   "outputs": [],
   "source": [
    "##marketing analytics about business and understand customer, seller behaviors, product behavior and\n",
    "## channel behavior etc..."
   ]
  },
  {
   "cell_type": "code",
   "execution_count": 2,
   "metadata": {},
   "outputs": [],
   "source": [
    "import pandas as pd\n",
    "import numpy as np\n",
    "import matplotlib.pyplot as plt\n",
    "import seaborn as sns"
   ]
  },
  {
   "cell_type": "code",
   "execution_count": 3,
   "metadata": {},
   "outputs": [],
   "source": [
    "customers = pd.read_csv(r'C:\\Users\\jyoti rawat\\Downloads\\Python Foundation End to End Case Study E-Commerce Analytics Project\\5. Python Foundation End to End Case Study_E-Commerce Analytics Project\\CUSTOMERS.csv')\n",
    "order_items = pd.read_csv(r'C:\\Users\\jyoti rawat\\Downloads\\Python Foundation End to End Case Study E-Commerce Analytics Project\\5. Python Foundation End to End Case Study_E-Commerce Analytics Project\\ORDER_ITEMS.csv')\n",
    "sellers =pd.read_csv(r'C:\\Users\\jyoti rawat\\Downloads\\Python Foundation End to End Case Study E-Commerce Analytics Project\\5. Python Foundation End to End Case Study_E-Commerce Analytics Project\\SELLERS.csv')\n",
    "orders =pd.read_csv(r'C:\\Users\\jyoti rawat\\Downloads\\Python Foundation End to End Case Study E-Commerce Analytics Project\\5. Python Foundation End to End Case Study_E-Commerce Analytics Project\\ORDERS.csv')\n",
    "order_review =pd.read_csv(r'C:\\Users\\jyoti rawat\\Downloads\\Python Foundation End to End Case Study E-Commerce Analytics Project\\5. Python Foundation End to End Case Study_E-Commerce Analytics Project\\ORDER_REVIEW_RATINGS.csv')\n",
    "order_payments =pd.read_csv(r'C:\\Users\\jyoti rawat\\Downloads\\Python Foundation End to End Case Study E-Commerce Analytics Project\\5. Python Foundation End to End Case Study_E-Commerce Analytics Project\\ORDER_PAYMENTS.csv')\n",
    "geo_location =pd.read_csv(r'C:\\Users\\jyoti rawat\\Downloads\\Python Foundation End to End Case Study E-Commerce Analytics Project\\5. Python Foundation End to End Case Study_E-Commerce Analytics Project\\GEO_LOCATION.csv')\n",
    "products = pd.read_csv(r'C:\\Users\\jyoti rawat\\Downloads\\Python Foundation End to End Case Study E-Commerce Analytics Project\\5. Python Foundation End to End Case Study_E-Commerce Analytics Project\\PRODUCTS.csv')"
   ]
  },
  {
   "cell_type": "code",
   "execution_count": 22,
   "metadata": {},
   "outputs": [
    {
     "data": {
      "text/html": [
       "<div>\n",
       "<style scoped>\n",
       "    .dataframe tbody tr th:only-of-type {\n",
       "        vertical-align: middle;\n",
       "    }\n",
       "\n",
       "    .dataframe tbody tr th {\n",
       "        vertical-align: top;\n",
       "    }\n",
       "\n",
       "    .dataframe thead th {\n",
       "        text-align: right;\n",
       "    }\n",
       "</style>\n",
       "<table border=\"1\" class=\"dataframe\">\n",
       "  <thead>\n",
       "    <tr style=\"text-align: right;\">\n",
       "      <th></th>\n",
       "      <th>order_id</th>\n",
       "      <th>payment_sequential</th>\n",
       "      <th>payment_type</th>\n",
       "      <th>payment_installments</th>\n",
       "      <th>payment_value</th>\n",
       "    </tr>\n",
       "  </thead>\n",
       "  <tbody>\n",
       "    <tr>\n",
       "      <th>0</th>\n",
       "      <td>b81ef226f3fe1789b1e8b2acac839d17</td>\n",
       "      <td>1</td>\n",
       "      <td>credit_card</td>\n",
       "      <td>8</td>\n",
       "      <td>99.33</td>\n",
       "    </tr>\n",
       "    <tr>\n",
       "      <th>1</th>\n",
       "      <td>a9810da82917af2d9aefd1278f1dcfa0</td>\n",
       "      <td>1</td>\n",
       "      <td>credit_card</td>\n",
       "      <td>1</td>\n",
       "      <td>24.39</td>\n",
       "    </tr>\n",
       "  </tbody>\n",
       "</table>\n",
       "</div>"
      ],
      "text/plain": [
       "                           order_id  payment_sequential payment_type  \\\n",
       "0  b81ef226f3fe1789b1e8b2acac839d17                   1  credit_card   \n",
       "1  a9810da82917af2d9aefd1278f1dcfa0                   1  credit_card   \n",
       "\n",
       "   payment_installments  payment_value  \n",
       "0                     8          99.33  \n",
       "1                     1          24.39  "
      ]
     },
     "execution_count": 22,
     "metadata": {},
     "output_type": "execute_result"
    }
   ],
   "source": [
    "order_payments.head(2)"
   ]
  },
  {
   "cell_type": "code",
   "execution_count": 32,
   "metadata": {},
   "outputs": [
    {
     "name": "stderr",
     "output_type": "stream",
     "text": [
      "<ipython-input-32-db8efc1f2dec>:1: FutureWarning: Indexing with multiple keys (implicitly converted to a tuple of keys) will be deprecated, use a list instead.\n",
      "  order_payments.groupby('payment_type')['payment_installments','payment_value'].agg(['sum','mean'])\n"
     ]
    },
    {
     "data": {
      "text/html": [
       "<div>\n",
       "<style scoped>\n",
       "    .dataframe tbody tr th:only-of-type {\n",
       "        vertical-align: middle;\n",
       "    }\n",
       "\n",
       "    .dataframe tbody tr th {\n",
       "        vertical-align: top;\n",
       "    }\n",
       "\n",
       "    .dataframe thead tr th {\n",
       "        text-align: left;\n",
       "    }\n",
       "\n",
       "    .dataframe thead tr:last-of-type th {\n",
       "        text-align: right;\n",
       "    }\n",
       "</style>\n",
       "<table border=\"1\" class=\"dataframe\">\n",
       "  <thead>\n",
       "    <tr>\n",
       "      <th></th>\n",
       "      <th colspan=\"2\" halign=\"left\">payment_installments</th>\n",
       "      <th colspan=\"2\" halign=\"left\">payment_value</th>\n",
       "    </tr>\n",
       "    <tr>\n",
       "      <th></th>\n",
       "      <th>sum</th>\n",
       "      <th>mean</th>\n",
       "      <th>sum</th>\n",
       "      <th>mean</th>\n",
       "    </tr>\n",
       "    <tr>\n",
       "      <th>payment_type</th>\n",
       "      <th></th>\n",
       "      <th></th>\n",
       "      <th></th>\n",
       "      <th></th>\n",
       "    </tr>\n",
       "  </thead>\n",
       "  <tbody>\n",
       "    <tr>\n",
       "      <th>UPI</th>\n",
       "      <td>19784</td>\n",
       "      <td>1.000000</td>\n",
       "      <td>2.869361e+06</td>\n",
       "      <td>145.034435</td>\n",
       "    </tr>\n",
       "    <tr>\n",
       "      <th>credit_card</th>\n",
       "      <td>269332</td>\n",
       "      <td>3.507155</td>\n",
       "      <td>1.254208e+07</td>\n",
       "      <td>163.319021</td>\n",
       "    </tr>\n",
       "    <tr>\n",
       "      <th>debit_card</th>\n",
       "      <td>1529</td>\n",
       "      <td>1.000000</td>\n",
       "      <td>2.179898e+05</td>\n",
       "      <td>142.570170</td>\n",
       "    </tr>\n",
       "    <tr>\n",
       "      <th>not_defined</th>\n",
       "      <td>3</td>\n",
       "      <td>1.000000</td>\n",
       "      <td>0.000000e+00</td>\n",
       "      <td>0.000000</td>\n",
       "    </tr>\n",
       "    <tr>\n",
       "      <th>voucher</th>\n",
       "      <td>5775</td>\n",
       "      <td>1.000000</td>\n",
       "      <td>3.794369e+05</td>\n",
       "      <td>65.703354</td>\n",
       "    </tr>\n",
       "  </tbody>\n",
       "</table>\n",
       "</div>"
      ],
      "text/plain": [
       "             payment_installments           payment_value            \n",
       "                              sum      mean           sum        mean\n",
       "payment_type                                                         \n",
       "UPI                         19784  1.000000  2.869361e+06  145.034435\n",
       "credit_card                269332  3.507155  1.254208e+07  163.319021\n",
       "debit_card                   1529  1.000000  2.179898e+05  142.570170\n",
       "not_defined                     3  1.000000  0.000000e+00    0.000000\n",
       "voucher                      5775  1.000000  3.794369e+05   65.703354"
      ]
     },
     "execution_count": 32,
     "metadata": {},
     "output_type": "execute_result"
    }
   ],
   "source": [
    "order_payments.groupby('payment_type')['payment_installments','payment_value'].agg(['sum','mean'])"
   ]
  },
  {
   "cell_type": "code",
   "execution_count": 17,
   "metadata": {},
   "outputs": [
    {
     "data": {
      "text/html": [
       "<div>\n",
       "<style scoped>\n",
       "    .dataframe tbody tr th:only-of-type {\n",
       "        vertical-align: middle;\n",
       "    }\n",
       "\n",
       "    .dataframe tbody tr th {\n",
       "        vertical-align: top;\n",
       "    }\n",
       "\n",
       "    .dataframe thead th {\n",
       "        text-align: right;\n",
       "    }\n",
       "</style>\n",
       "<table border=\"1\" class=\"dataframe\">\n",
       "  <thead>\n",
       "    <tr style=\"text-align: right;\">\n",
       "      <th></th>\n",
       "      <th>order_id</th>\n",
       "      <th>customer_id</th>\n",
       "      <th>order_status</th>\n",
       "      <th>order_purchase_timestamp</th>\n",
       "      <th>order_approved_at</th>\n",
       "      <th>order_delivered_carrier_date</th>\n",
       "      <th>order_delivered_customer_date</th>\n",
       "      <th>order_estimated_delivery_date</th>\n",
       "    </tr>\n",
       "  </thead>\n",
       "  <tbody>\n",
       "    <tr>\n",
       "      <th>0</th>\n",
       "      <td>e481f51cbdc54678b7cc49136f2d6af7</td>\n",
       "      <td>9ef432eb6251297304e76186b10a928d</td>\n",
       "      <td>delivered</td>\n",
       "      <td>2017-10-02 10:56:00</td>\n",
       "      <td>10/2/2017 11:07</td>\n",
       "      <td>10/4/2017 19:55</td>\n",
       "      <td>2017-10-10 21:25:00</td>\n",
       "      <td>10/18/2017 0:00</td>\n",
       "    </tr>\n",
       "    <tr>\n",
       "      <th>1</th>\n",
       "      <td>53cdb2fc8bc7dce0b6741e2150273451</td>\n",
       "      <td>b0830fb4747a6c6d20dea0b8c802d7ef</td>\n",
       "      <td>delivered</td>\n",
       "      <td>2018-07-24 20:41:00</td>\n",
       "      <td>7/26/2018 3:24</td>\n",
       "      <td>7/26/2018 14:31</td>\n",
       "      <td>2018-08-07 15:27:00</td>\n",
       "      <td>8/13/2018 0:00</td>\n",
       "    </tr>\n",
       "  </tbody>\n",
       "</table>\n",
       "</div>"
      ],
      "text/plain": [
       "                           order_id                       customer_id  \\\n",
       "0  e481f51cbdc54678b7cc49136f2d6af7  9ef432eb6251297304e76186b10a928d   \n",
       "1  53cdb2fc8bc7dce0b6741e2150273451  b0830fb4747a6c6d20dea0b8c802d7ef   \n",
       "\n",
       "  order_status order_purchase_timestamp order_approved_at  \\\n",
       "0    delivered      2017-10-02 10:56:00   10/2/2017 11:07   \n",
       "1    delivered      2018-07-24 20:41:00    7/26/2018 3:24   \n",
       "\n",
       "  order_delivered_carrier_date order_delivered_customer_date  \\\n",
       "0              10/4/2017 19:55           2017-10-10 21:25:00   \n",
       "1              7/26/2018 14:31           2018-08-07 15:27:00   \n",
       "\n",
       "  order_estimated_delivery_date  \n",
       "0               10/18/2017 0:00  \n",
       "1                8/13/2018 0:00  "
      ]
     },
     "execution_count": 17,
     "metadata": {},
     "output_type": "execute_result"
    }
   ],
   "source": [
    "orders.head(2)"
   ]
  },
  {
   "cell_type": "code",
   "execution_count": 18,
   "metadata": {},
   "outputs": [],
   "source": [
    "data1 = pd.merge(customers , orders , left_on ='customer_id' , right_on ='customer_id' , how = 'left')"
   ]
  },
  {
   "cell_type": "code",
   "execution_count": 4,
   "metadata": {},
   "outputs": [
    {
     "data": {
      "text/html": [
       "<div>\n",
       "<style scoped>\n",
       "    .dataframe tbody tr th:only-of-type {\n",
       "        vertical-align: middle;\n",
       "    }\n",
       "\n",
       "    .dataframe tbody tr th {\n",
       "        vertical-align: top;\n",
       "    }\n",
       "\n",
       "    .dataframe thead th {\n",
       "        text-align: right;\n",
       "    }\n",
       "</style>\n",
       "<table border=\"1\" class=\"dataframe\">\n",
       "  <thead>\n",
       "    <tr style=\"text-align: right;\">\n",
       "      <th></th>\n",
       "      <th>product_id</th>\n",
       "      <th>product_category_name</th>\n",
       "      <th>product_name_lenght</th>\n",
       "      <th>product_description_lenght</th>\n",
       "      <th>product_photos_qty</th>\n",
       "      <th>product_weight_g</th>\n",
       "      <th>product_length_cm</th>\n",
       "      <th>product_height_cm</th>\n",
       "      <th>product_width_cm</th>\n",
       "    </tr>\n",
       "  </thead>\n",
       "  <tbody>\n",
       "    <tr>\n",
       "      <th>0</th>\n",
       "      <td>1e9e8ef04dbcff4541ed26657ea517e5</td>\n",
       "      <td>Perfumery</td>\n",
       "      <td>40.0</td>\n",
       "      <td>287.0</td>\n",
       "      <td>1.0</td>\n",
       "      <td>225.0</td>\n",
       "      <td>16.0</td>\n",
       "      <td>10.0</td>\n",
       "      <td>14.0</td>\n",
       "    </tr>\n",
       "    <tr>\n",
       "      <th>1</th>\n",
       "      <td>3aa071139cb16b67ca9e5dea641aaa2f</td>\n",
       "      <td>Art</td>\n",
       "      <td>44.0</td>\n",
       "      <td>276.0</td>\n",
       "      <td>1.0</td>\n",
       "      <td>1000.0</td>\n",
       "      <td>30.0</td>\n",
       "      <td>18.0</td>\n",
       "      <td>20.0</td>\n",
       "    </tr>\n",
       "    <tr>\n",
       "      <th>2</th>\n",
       "      <td>96bd76ec8810374ed1b65e291975717f</td>\n",
       "      <td>Sports_Leisure</td>\n",
       "      <td>46.0</td>\n",
       "      <td>250.0</td>\n",
       "      <td>1.0</td>\n",
       "      <td>154.0</td>\n",
       "      <td>18.0</td>\n",
       "      <td>9.0</td>\n",
       "      <td>15.0</td>\n",
       "    </tr>\n",
       "    <tr>\n",
       "      <th>3</th>\n",
       "      <td>cef67bcfe19066a932b7673e239eb23d</td>\n",
       "      <td>Baby</td>\n",
       "      <td>27.0</td>\n",
       "      <td>261.0</td>\n",
       "      <td>1.0</td>\n",
       "      <td>371.0</td>\n",
       "      <td>26.0</td>\n",
       "      <td>4.0</td>\n",
       "      <td>26.0</td>\n",
       "    </tr>\n",
       "    <tr>\n",
       "      <th>4</th>\n",
       "      <td>9dc1a7de274444849c219cff195d0b71</td>\n",
       "      <td>Housewares</td>\n",
       "      <td>37.0</td>\n",
       "      <td>402.0</td>\n",
       "      <td>4.0</td>\n",
       "      <td>625.0</td>\n",
       "      <td>20.0</td>\n",
       "      <td>17.0</td>\n",
       "      <td>13.0</td>\n",
       "    </tr>\n",
       "  </tbody>\n",
       "</table>\n",
       "</div>"
      ],
      "text/plain": [
       "                         product_id product_category_name  \\\n",
       "0  1e9e8ef04dbcff4541ed26657ea517e5             Perfumery   \n",
       "1  3aa071139cb16b67ca9e5dea641aaa2f                   Art   \n",
       "2  96bd76ec8810374ed1b65e291975717f        Sports_Leisure   \n",
       "3  cef67bcfe19066a932b7673e239eb23d                  Baby   \n",
       "4  9dc1a7de274444849c219cff195d0b71            Housewares   \n",
       "\n",
       "   product_name_lenght  product_description_lenght  product_photos_qty  \\\n",
       "0                 40.0                       287.0                 1.0   \n",
       "1                 44.0                       276.0                 1.0   \n",
       "2                 46.0                       250.0                 1.0   \n",
       "3                 27.0                       261.0                 1.0   \n",
       "4                 37.0                       402.0                 4.0   \n",
       "\n",
       "   product_weight_g  product_length_cm  product_height_cm  product_width_cm  \n",
       "0             225.0               16.0               10.0              14.0  \n",
       "1            1000.0               30.0               18.0              20.0  \n",
       "2             154.0               18.0                9.0              15.0  \n",
       "3             371.0               26.0                4.0              26.0  \n",
       "4             625.0               20.0               17.0              13.0  "
      ]
     },
     "execution_count": 4,
     "metadata": {},
     "output_type": "execute_result"
    }
   ],
   "source": [
    "products.head()"
   ]
  },
  {
   "cell_type": "code",
   "execution_count": 9,
   "metadata": {},
   "outputs": [],
   "source": [
    "orders['order_purchase_timestamp'] = pd.to_datetime(orders['order_purchase_timestamp'] ,errors ='coerce')"
   ]
  },
  {
   "cell_type": "code",
   "execution_count": 10,
   "metadata": {},
   "outputs": [],
   "source": [
    "orders['order_delivered_customer_date'] = pd.to_datetime(orders['order_delivered_customer_date'] ,errors ='coerce')"
   ]
  },
  {
   "cell_type": "code",
   "execution_count": 33,
   "metadata": {},
   "outputs": [
    {
     "data": {
      "text/plain": [
       "0         8.0\n",
       "1        13.0\n",
       "2         9.0\n",
       "3        13.0\n",
       "4         2.0\n",
       "         ... \n",
       "99436     8.0\n",
       "99437    22.0\n",
       "99438    24.0\n",
       "99439    17.0\n",
       "99440     7.0\n",
       "Length: 99441, dtype: float64"
      ]
     },
     "execution_count": 33,
     "metadata": {},
     "output_type": "execute_result"
    }
   ],
   "source": [
    "(orders['order_delivered_customer_date'] - orders['order_purchase_timestamp']).dt.days"
   ]
  },
  {
   "cell_type": "code",
   "execution_count": 53,
   "metadata": {},
   "outputs": [
    {
     "data": {
      "text/html": [
       "<div>\n",
       "<style scoped>\n",
       "    .dataframe tbody tr th:only-of-type {\n",
       "        vertical-align: middle;\n",
       "    }\n",
       "\n",
       "    .dataframe tbody tr th {\n",
       "        vertical-align: top;\n",
       "    }\n",
       "\n",
       "    .dataframe thead th {\n",
       "        text-align: right;\n",
       "    }\n",
       "</style>\n",
       "<table border=\"1\" class=\"dataframe\">\n",
       "  <thead>\n",
       "    <tr style=\"text-align: right;\">\n",
       "      <th></th>\n",
       "      <th>seller_id</th>\n",
       "      <th>seller_zip_code_prefix</th>\n",
       "      <th>seller_city</th>\n",
       "      <th>seller_state</th>\n",
       "    </tr>\n",
       "  </thead>\n",
       "  <tbody>\n",
       "    <tr>\n",
       "      <th>0</th>\n",
       "      <td>3442f8959a84dea7ee197c632cb2df15</td>\n",
       "      <td>13023</td>\n",
       "      <td>Alwal</td>\n",
       "      <td>Andhra Pradesh</td>\n",
       "    </tr>\n",
       "    <tr>\n",
       "      <th>1</th>\n",
       "      <td>d1b65fc7debc3361ea86b5f14c68d2e2</td>\n",
       "      <td>13023</td>\n",
       "      <td>Alwal</td>\n",
       "      <td>Andhra Pradesh</td>\n",
       "    </tr>\n",
       "  </tbody>\n",
       "</table>\n",
       "</div>"
      ],
      "text/plain": [
       "                          seller_id  seller_zip_code_prefix seller_city  \\\n",
       "0  3442f8959a84dea7ee197c632cb2df15                   13023       Alwal   \n",
       "1  d1b65fc7debc3361ea86b5f14c68d2e2                   13023       Alwal   \n",
       "\n",
       "     seller_state  \n",
       "0  Andhra Pradesh  \n",
       "1  Andhra Pradesh  "
      ]
     },
     "execution_count": 53,
     "metadata": {},
     "output_type": "execute_result"
    }
   ],
   "source": [
    "sellers.head(2)"
   ]
  },
  {
   "cell_type": "code",
   "execution_count": 54,
   "metadata": {},
   "outputs": [],
   "source": [
    "merged_df = pd.merge(order_items ,sellers , on = 'seller_id' , how = 'left')"
   ]
  },
  {
   "cell_type": "code",
   "execution_count": 55,
   "metadata": {},
   "outputs": [
    {
     "data": {
      "text/html": [
       "<div>\n",
       "<style scoped>\n",
       "    .dataframe tbody tr th:only-of-type {\n",
       "        vertical-align: middle;\n",
       "    }\n",
       "\n",
       "    .dataframe tbody tr th {\n",
       "        vertical-align: top;\n",
       "    }\n",
       "\n",
       "    .dataframe thead th {\n",
       "        text-align: right;\n",
       "    }\n",
       "</style>\n",
       "<table border=\"1\" class=\"dataframe\">\n",
       "  <thead>\n",
       "    <tr style=\"text-align: right;\">\n",
       "      <th></th>\n",
       "      <th>order_id</th>\n",
       "      <th>order_item_id</th>\n",
       "      <th>product_id</th>\n",
       "      <th>seller_id</th>\n",
       "      <th>shipping_limit_date</th>\n",
       "      <th>price</th>\n",
       "      <th>freight_value</th>\n",
       "      <th>seller_zip_code_prefix</th>\n",
       "      <th>seller_city</th>\n",
       "      <th>seller_state</th>\n",
       "    </tr>\n",
       "  </thead>\n",
       "  <tbody>\n",
       "    <tr>\n",
       "      <th>0</th>\n",
       "      <td>00010242fe8c5a6d1ba2dd792cb16214</td>\n",
       "      <td>1</td>\n",
       "      <td>4244733e06e7ecb4970a6e2683c13e61</td>\n",
       "      <td>48436dade18ac8b2bce089ec2a041202</td>\n",
       "      <td>9/19/2017 9:45</td>\n",
       "      <td>58.9</td>\n",
       "      <td>13.29</td>\n",
       "      <td>27277</td>\n",
       "      <td>Serilingampalle</td>\n",
       "      <td>Andhra Pradesh</td>\n",
       "    </tr>\n",
       "    <tr>\n",
       "      <th>1</th>\n",
       "      <td>00018f77f2f0320c557190d7a144bdd3</td>\n",
       "      <td>1</td>\n",
       "      <td>e5f2d52b802189ee658865ca93d83a8f</td>\n",
       "      <td>dd7ddc04e1b6c2c614352b383efe2d36</td>\n",
       "      <td>5/3/2017 11:05</td>\n",
       "      <td>239.9</td>\n",
       "      <td>19.93</td>\n",
       "      <td>3471</td>\n",
       "      <td>Akkarampalle</td>\n",
       "      <td>Andhra Pradesh</td>\n",
       "    </tr>\n",
       "  </tbody>\n",
       "</table>\n",
       "</div>"
      ],
      "text/plain": [
       "                           order_id  order_item_id  \\\n",
       "0  00010242fe8c5a6d1ba2dd792cb16214              1   \n",
       "1  00018f77f2f0320c557190d7a144bdd3              1   \n",
       "\n",
       "                         product_id                         seller_id  \\\n",
       "0  4244733e06e7ecb4970a6e2683c13e61  48436dade18ac8b2bce089ec2a041202   \n",
       "1  e5f2d52b802189ee658865ca93d83a8f  dd7ddc04e1b6c2c614352b383efe2d36   \n",
       "\n",
       "  shipping_limit_date  price  freight_value  seller_zip_code_prefix  \\\n",
       "0      9/19/2017 9:45   58.9          13.29                   27277   \n",
       "1      5/3/2017 11:05  239.9          19.93                    3471   \n",
       "\n",
       "       seller_city    seller_state  \n",
       "0  Serilingampalle  Andhra Pradesh  \n",
       "1     Akkarampalle  Andhra Pradesh  "
      ]
     },
     "execution_count": 55,
     "metadata": {},
     "output_type": "execute_result"
    }
   ],
   "source": [
    "merged_df.head(2)"
   ]
  },
  {
   "cell_type": "code",
   "execution_count": 56,
   "metadata": {},
   "outputs": [],
   "source": [
    "merged_df = pd.merge(merged_df , orders , on = 'order_id' , how ='left' )"
   ]
  },
  {
   "cell_type": "code",
   "execution_count": 57,
   "metadata": {},
   "outputs": [],
   "source": [
    "merged_df = pd.merge(merged_df , order_review , on = 'order_id' , how ='left' )"
   ]
  },
  {
   "cell_type": "code",
   "execution_count": 58,
   "metadata": {},
   "outputs": [],
   "source": [
    "merged_df = pd.merge(merged_df , order_payments , on = 'order_id' , how ='left' )"
   ]
  },
  {
   "cell_type": "code",
   "execution_count": 59,
   "metadata": {},
   "outputs": [],
   "source": [
    "merged_df = pd.merge(merged_df , products , on = 'product_id' , how ='left' )"
   ]
  },
  {
   "cell_type": "code",
   "execution_count": 60,
   "metadata": {},
   "outputs": [],
   "source": [
    "merged_df = pd.merge(merged_df , customers , on = 'customer_id' , how ='left' )"
   ]
  },
  {
   "cell_type": "code",
   "execution_count": 61,
   "metadata": {},
   "outputs": [],
   "source": [
    "final_data = pd.merge(merged_df , geo_location , left_on = 'customer_zip_code_prefix', right_on = 'geolocation_zip_code_prefix' , how ='left' )"
   ]
  },
  {
   "cell_type": "code",
   "execution_count": 62,
   "metadata": {},
   "outputs": [
    {
     "data": {
      "text/html": [
       "<div>\n",
       "<style scoped>\n",
       "    .dataframe tbody tr th:only-of-type {\n",
       "        vertical-align: middle;\n",
       "    }\n",
       "\n",
       "    .dataframe tbody tr th {\n",
       "        vertical-align: top;\n",
       "    }\n",
       "\n",
       "    .dataframe thead th {\n",
       "        text-align: right;\n",
       "    }\n",
       "</style>\n",
       "<table border=\"1\" class=\"dataframe\">\n",
       "  <thead>\n",
       "    <tr style=\"text-align: right;\">\n",
       "      <th></th>\n",
       "      <th>order_id</th>\n",
       "      <th>order_item_id</th>\n",
       "      <th>product_id</th>\n",
       "      <th>seller_id</th>\n",
       "      <th>shipping_limit_date</th>\n",
       "      <th>price</th>\n",
       "      <th>freight_value</th>\n",
       "      <th>seller_zip_code_prefix</th>\n",
       "      <th>seller_city</th>\n",
       "      <th>seller_state</th>\n",
       "      <th>...</th>\n",
       "      <th>product_width_cm</th>\n",
       "      <th>customer_unique_id</th>\n",
       "      <th>customer_zip_code_prefix</th>\n",
       "      <th>customer_city</th>\n",
       "      <th>customer_state</th>\n",
       "      <th>geolocation_zip_code_prefix</th>\n",
       "      <th>geolocation_lat</th>\n",
       "      <th>geolocation_lng</th>\n",
       "      <th>geolocation_city</th>\n",
       "      <th>geolocation_state</th>\n",
       "    </tr>\n",
       "  </thead>\n",
       "  <tbody>\n",
       "    <tr>\n",
       "      <th>0</th>\n",
       "      <td>00010242fe8c5a6d1ba2dd792cb16214</td>\n",
       "      <td>1</td>\n",
       "      <td>4244733e06e7ecb4970a6e2683c13e61</td>\n",
       "      <td>48436dade18ac8b2bce089ec2a041202</td>\n",
       "      <td>9/19/2017 9:45</td>\n",
       "      <td>58.90</td>\n",
       "      <td>13.29</td>\n",
       "      <td>27277</td>\n",
       "      <td>Serilingampalle</td>\n",
       "      <td>Andhra Pradesh</td>\n",
       "      <td>...</td>\n",
       "      <td>14.0</td>\n",
       "      <td>871766c5855e863f6eccc05f988b23cb</td>\n",
       "      <td>28013</td>\n",
       "      <td>Guntakal</td>\n",
       "      <td>Andhra Pradesh</td>\n",
       "      <td>28013.0</td>\n",
       "      <td>-21.758076</td>\n",
       "      <td>-41.312633</td>\n",
       "      <td>Guntakal</td>\n",
       "      <td>Andhra Pradesh</td>\n",
       "    </tr>\n",
       "    <tr>\n",
       "      <th>1</th>\n",
       "      <td>00018f77f2f0320c557190d7a144bdd3</td>\n",
       "      <td>1</td>\n",
       "      <td>e5f2d52b802189ee658865ca93d83a8f</td>\n",
       "      <td>dd7ddc04e1b6c2c614352b383efe2d36</td>\n",
       "      <td>5/3/2017 11:05</td>\n",
       "      <td>239.90</td>\n",
       "      <td>19.93</td>\n",
       "      <td>3471</td>\n",
       "      <td>Akkarampalle</td>\n",
       "      <td>Andhra Pradesh</td>\n",
       "      <td>...</td>\n",
       "      <td>40.0</td>\n",
       "      <td>eb28e67c4c0b83846050ddfb8a35d051</td>\n",
       "      <td>15775</td>\n",
       "      <td>Kirandul</td>\n",
       "      <td>Chhattisgarh</td>\n",
       "      <td>15775.0</td>\n",
       "      <td>-20.212393</td>\n",
       "      <td>-50.941471</td>\n",
       "      <td>Kirandul</td>\n",
       "      <td>Chhattisgarh</td>\n",
       "    </tr>\n",
       "    <tr>\n",
       "      <th>2</th>\n",
       "      <td>000229ec398224ef6ca0657da4fc703e</td>\n",
       "      <td>1</td>\n",
       "      <td>c777355d18b72b67abbeef9df44fd0fd</td>\n",
       "      <td>5b51032eddd242adc84c38acab88f23d</td>\n",
       "      <td>1/18/2018 14:48</td>\n",
       "      <td>199.00</td>\n",
       "      <td>17.87</td>\n",
       "      <td>37564</td>\n",
       "      <td>Goredi Chancha</td>\n",
       "      <td>Rajasthan</td>\n",
       "      <td>...</td>\n",
       "      <td>33.0</td>\n",
       "      <td>3818d81c6709e39d06b2738a8d3a2474</td>\n",
       "      <td>35661</td>\n",
       "      <td>Kanker</td>\n",
       "      <td>Chhattisgarh</td>\n",
       "      <td>35661.0</td>\n",
       "      <td>-19.860439</td>\n",
       "      <td>-44.597972</td>\n",
       "      <td>Akkarampalle</td>\n",
       "      <td>Andhra Pradesh</td>\n",
       "    </tr>\n",
       "    <tr>\n",
       "      <th>3</th>\n",
       "      <td>00024acbcdf0a6daa1e931b038114c75</td>\n",
       "      <td>1</td>\n",
       "      <td>7634da152a4610f1595efa32f14722fc</td>\n",
       "      <td>9d7a1d34a5052409006425275ba1c2b4</td>\n",
       "      <td>8/15/2018 10:10</td>\n",
       "      <td>12.99</td>\n",
       "      <td>12.79</td>\n",
       "      <td>14403</td>\n",
       "      <td>Adilabad</td>\n",
       "      <td>Andhra Pradesh</td>\n",
       "      <td>...</td>\n",
       "      <td>15.0</td>\n",
       "      <td>af861d436cfc08b2c2ddefd0ba074622</td>\n",
       "      <td>12952</td>\n",
       "      <td>Patancheru</td>\n",
       "      <td>Andhra Pradesh</td>\n",
       "      <td>12952.0</td>\n",
       "      <td>-23.144923</td>\n",
       "      <td>-46.539830</td>\n",
       "      <td>Patancheru</td>\n",
       "      <td>Andhra Pradesh</td>\n",
       "    </tr>\n",
       "    <tr>\n",
       "      <th>4</th>\n",
       "      <td>00042b26cf59d7ce69dfabb4e55b4fd9</td>\n",
       "      <td>1</td>\n",
       "      <td>ac6c3623068f30de03045865e4e10089</td>\n",
       "      <td>df560393f3a51e74553ab94004ba5c87</td>\n",
       "      <td>2/13/2017 13:57</td>\n",
       "      <td>199.90</td>\n",
       "      <td>18.14</td>\n",
       "      <td>87900</td>\n",
       "      <td>Kumhari</td>\n",
       "      <td>Chhattisgarh</td>\n",
       "      <td>...</td>\n",
       "      <td>30.0</td>\n",
       "      <td>64b576fb70d441e8f1b2d7d446e483c5</td>\n",
       "      <td>13226</td>\n",
       "      <td>Changanassery</td>\n",
       "      <td>Kerala</td>\n",
       "      <td>13226.0</td>\n",
       "      <td>-23.249008</td>\n",
       "      <td>-46.824961</td>\n",
       "      <td>Changanassery</td>\n",
       "      <td>Kerala</td>\n",
       "    </tr>\n",
       "  </tbody>\n",
       "</table>\n",
       "<p>5 rows × 42 columns</p>\n",
       "</div>"
      ],
      "text/plain": [
       "                           order_id  order_item_id  \\\n",
       "0  00010242fe8c5a6d1ba2dd792cb16214              1   \n",
       "1  00018f77f2f0320c557190d7a144bdd3              1   \n",
       "2  000229ec398224ef6ca0657da4fc703e              1   \n",
       "3  00024acbcdf0a6daa1e931b038114c75              1   \n",
       "4  00042b26cf59d7ce69dfabb4e55b4fd9              1   \n",
       "\n",
       "                         product_id                         seller_id  \\\n",
       "0  4244733e06e7ecb4970a6e2683c13e61  48436dade18ac8b2bce089ec2a041202   \n",
       "1  e5f2d52b802189ee658865ca93d83a8f  dd7ddc04e1b6c2c614352b383efe2d36   \n",
       "2  c777355d18b72b67abbeef9df44fd0fd  5b51032eddd242adc84c38acab88f23d   \n",
       "3  7634da152a4610f1595efa32f14722fc  9d7a1d34a5052409006425275ba1c2b4   \n",
       "4  ac6c3623068f30de03045865e4e10089  df560393f3a51e74553ab94004ba5c87   \n",
       "\n",
       "  shipping_limit_date   price  freight_value  seller_zip_code_prefix  \\\n",
       "0      9/19/2017 9:45   58.90          13.29                   27277   \n",
       "1      5/3/2017 11:05  239.90          19.93                    3471   \n",
       "2     1/18/2018 14:48  199.00          17.87                   37564   \n",
       "3     8/15/2018 10:10   12.99          12.79                   14403   \n",
       "4     2/13/2017 13:57  199.90          18.14                   87900   \n",
       "\n",
       "       seller_city    seller_state  ... product_width_cm  \\\n",
       "0  Serilingampalle  Andhra Pradesh  ...             14.0   \n",
       "1     Akkarampalle  Andhra Pradesh  ...             40.0   \n",
       "2   Goredi Chancha       Rajasthan  ...             33.0   \n",
       "3         Adilabad  Andhra Pradesh  ...             15.0   \n",
       "4          Kumhari    Chhattisgarh  ...             30.0   \n",
       "\n",
       "                 customer_unique_id customer_zip_code_prefix  customer_city  \\\n",
       "0  871766c5855e863f6eccc05f988b23cb                    28013       Guntakal   \n",
       "1  eb28e67c4c0b83846050ddfb8a35d051                    15775       Kirandul   \n",
       "2  3818d81c6709e39d06b2738a8d3a2474                    35661         Kanker   \n",
       "3  af861d436cfc08b2c2ddefd0ba074622                    12952     Patancheru   \n",
       "4  64b576fb70d441e8f1b2d7d446e483c5                    13226  Changanassery   \n",
       "\n",
       "   customer_state geolocation_zip_code_prefix geolocation_lat geolocation_lng  \\\n",
       "0  Andhra Pradesh                     28013.0      -21.758076      -41.312633   \n",
       "1    Chhattisgarh                     15775.0      -20.212393      -50.941471   \n",
       "2    Chhattisgarh                     35661.0      -19.860439      -44.597972   \n",
       "3  Andhra Pradesh                     12952.0      -23.144923      -46.539830   \n",
       "4          Kerala                     13226.0      -23.249008      -46.824961   \n",
       "\n",
       "   geolocation_city geolocation_state  \n",
       "0          Guntakal    Andhra Pradesh  \n",
       "1          Kirandul      Chhattisgarh  \n",
       "2      Akkarampalle    Andhra Pradesh  \n",
       "3        Patancheru    Andhra Pradesh  \n",
       "4     Changanassery            Kerala  \n",
       "\n",
       "[5 rows x 42 columns]"
      ]
     },
     "execution_count": 62,
     "metadata": {},
     "output_type": "execute_result"
    }
   ],
   "source": [
    "final_data.head()"
   ]
  },
  {
   "cell_type": "markdown",
   "metadata": {},
   "source": [
    "Perform Detailed exploratory analysis\n",
    "a. Define & calculate high level metrics like (Total Revenue, Total quantity, Total\n",
    "products, Total categories, Total sellers, Total locations, Total channels, Total\n",
    "payment methods etc…) \n"
   ]
  },
  {
   "cell_type": "code",
   "execution_count": 63,
   "metadata": {},
   "outputs": [
    {
     "data": {
      "text/plain": [
       "Index(['order_id', 'order_item_id', 'product_id', 'seller_id',\n",
       "       'shipping_limit_date', 'price', 'freight_value',\n",
       "       'seller_zip_code_prefix', 'seller_city', 'seller_state', 'customer_id',\n",
       "       'order_status', 'order_purchase_timestamp', 'order_approved_at',\n",
       "       'order_delivered_carrier_date', 'order_delivered_customer_date',\n",
       "       'order_estimated_delivery_date', 'review_id', 'review_score',\n",
       "       'review_creation_date', 'review_answer_timestamp', 'payment_sequential',\n",
       "       'payment_type', 'payment_installments', 'payment_value',\n",
       "       'product_category_name', 'product_name_lenght',\n",
       "       'product_description_lenght', 'product_photos_qty', 'product_weight_g',\n",
       "       'product_length_cm', 'product_height_cm', 'product_width_cm',\n",
       "       'customer_unique_id', 'customer_zip_code_prefix', 'customer_city',\n",
       "       'customer_state', 'geolocation_zip_code_prefix', 'geolocation_lat',\n",
       "       'geolocation_lng', 'geolocation_city', 'geolocation_state'],\n",
       "      dtype='object')"
      ]
     },
     "execution_count": 63,
     "metadata": {},
     "output_type": "execute_result"
    }
   ],
   "source": [
    "final_data.columns"
   ]
  },
  {
   "cell_type": "code",
   "execution_count": 64,
   "metadata": {},
   "outputs": [
    {
     "data": {
      "text/plain": [
       "16645176.91"
      ]
     },
     "execution_count": 64,
     "metadata": {},
     "output_type": "execute_result"
    }
   ],
   "source": [
    "## total revenue\n",
    "final_data['total_revenue'] = final_data['price'] + final_data['freight_value']\n",
    "final_data['total_revenue'].sum()"
   ]
  },
  {
   "cell_type": "code",
   "execution_count": 65,
   "metadata": {},
   "outputs": [
    {
     "data": {
      "text/plain": [
       "118318"
      ]
     },
     "execution_count": 65,
     "metadata": {},
     "output_type": "execute_result"
    }
   ],
   "source": [
    "## total quantity sold\n",
    "final_data['order_item_id'].count()"
   ]
  },
  {
   "cell_type": "code",
   "execution_count": 66,
   "metadata": {},
   "outputs": [
    {
     "data": {
      "text/plain": [
       "71"
      ]
     },
     "execution_count": 66,
     "metadata": {},
     "output_type": "execute_result"
    }
   ],
   "source": [
    "##total categories\n",
    "final_data['product_category_name'].nunique()"
   ]
  },
  {
   "cell_type": "code",
   "execution_count": 67,
   "metadata": {},
   "outputs": [
    {
     "data": {
      "text/plain": [
       "32951"
      ]
     },
     "execution_count": 67,
     "metadata": {},
     "output_type": "execute_result"
    }
   ],
   "source": [
    "##total products\n",
    "final_data['product_id'].nunique()"
   ]
  },
  {
   "cell_type": "code",
   "execution_count": 68,
   "metadata": {},
   "outputs": [
    {
     "data": {
      "text/plain": [
       "3095"
      ]
     },
     "execution_count": 68,
     "metadata": {},
     "output_type": "execute_result"
    }
   ],
   "source": [
    "##total sellers\n",
    "final_data['seller_id'].nunique()"
   ]
  },
  {
   "cell_type": "code",
   "execution_count": 69,
   "metadata": {},
   "outputs": [
    {
     "data": {
      "text/plain": [
       "20"
      ]
     },
     "execution_count": 69,
     "metadata": {},
     "output_type": "execute_result"
    }
   ],
   "source": [
    "##total locations\n",
    "final_data['geolocation_state'].nunique()"
   ]
  },
  {
   "cell_type": "code",
   "execution_count": 70,
   "metadata": {},
   "outputs": [
    {
     "data": {
      "text/plain": [
       "4"
      ]
     },
     "execution_count": 70,
     "metadata": {},
     "output_type": "execute_result"
    }
   ],
   "source": [
    "##Total channels, Total payment methods \n",
    "final_data['payment_type'].nunique()"
   ]
  },
  {
   "cell_type": "code",
   "execution_count": 71,
   "metadata": {},
   "outputs": [
    {
     "data": {
      "text/plain": [
       "order_id                            0\n",
       "order_item_id                       0\n",
       "product_id                          0\n",
       "seller_id                           0\n",
       "shipping_limit_date                 0\n",
       "price                               0\n",
       "freight_value                       0\n",
       "seller_zip_code_prefix              0\n",
       "seller_city                      1651\n",
       "seller_state                     1651\n",
       "customer_id                         0\n",
       "order_status                        0\n",
       "order_purchase_timestamp            0\n",
       "order_approved_at                  15\n",
       "order_delivered_carrier_date     1254\n",
       "order_delivered_customer_date    2588\n",
       "order_estimated_delivery_date       0\n",
       "review_id                           0\n",
       "review_score                        0\n",
       "review_creation_date                0\n",
       "review_answer_timestamp             0\n",
       "payment_sequential                  3\n",
       "payment_type                        3\n",
       "payment_installments                3\n",
       "payment_value                       3\n",
       "product_category_name            1734\n",
       "product_name_lenght              1709\n",
       "product_description_lenght       1709\n",
       "product_photos_qty               1709\n",
       "product_weight_g                   20\n",
       "product_length_cm                  20\n",
       "product_height_cm                  20\n",
       "product_width_cm                   20\n",
       "customer_unique_id                  0\n",
       "customer_zip_code_prefix            0\n",
       "customer_city                       0\n",
       "customer_state                      0\n",
       "geolocation_zip_code_prefix       317\n",
       "geolocation_lat                   317\n",
       "geolocation_lng                   317\n",
       "geolocation_city                  317\n",
       "geolocation_state                 317\n",
       "total_revenue                       0\n",
       "dtype: int64"
      ]
     },
     "execution_count": 71,
     "metadata": {},
     "output_type": "execute_result"
    }
   ],
   "source": [
    "##missing values\n",
    "final_data.isna().sum()\n",
    "\n",
    "##order_delivered_customer_date  ha more missing values"
   ]
  },
  {
   "cell_type": "code",
   "execution_count": 72,
   "metadata": {},
   "outputs": [
    {
     "data": {
      "text/plain": [
       "order_id                          object\n",
       "order_item_id                      int64\n",
       "product_id                        object\n",
       "seller_id                         object\n",
       "shipping_limit_date               object\n",
       "price                            float64\n",
       "freight_value                    float64\n",
       "seller_zip_code_prefix             int64\n",
       "seller_city                       object\n",
       "seller_state                      object\n",
       "customer_id                       object\n",
       "order_status                      object\n",
       "order_purchase_timestamp          object\n",
       "order_approved_at                 object\n",
       "order_delivered_carrier_date      object\n",
       "order_delivered_customer_date     object\n",
       "order_estimated_delivery_date     object\n",
       "review_id                         object\n",
       "review_score                       int64\n",
       "review_creation_date              object\n",
       "review_answer_timestamp           object\n",
       "payment_sequential               float64\n",
       "payment_type                      object\n",
       "payment_installments             float64\n",
       "payment_value                    float64\n",
       "product_category_name             object\n",
       "product_name_lenght              float64\n",
       "product_description_lenght       float64\n",
       "product_photos_qty               float64\n",
       "product_weight_g                 float64\n",
       "product_length_cm                float64\n",
       "product_height_cm                float64\n",
       "product_width_cm                 float64\n",
       "customer_unique_id                object\n",
       "customer_zip_code_prefix           int64\n",
       "customer_city                     object\n",
       "customer_state                    object\n",
       "geolocation_zip_code_prefix      float64\n",
       "geolocation_lat                  float64\n",
       "geolocation_lng                  float64\n",
       "geolocation_city                  object\n",
       "geolocation_state                 object\n",
       "total_revenue                    float64\n",
       "dtype: object"
      ]
     },
     "execution_count": 72,
     "metadata": {},
     "output_type": "execute_result"
    }
   ],
   "source": [
    "final_data.dtypes"
   ]
  },
  {
   "cell_type": "code",
   "execution_count": 73,
   "metadata": {},
   "outputs": [],
   "source": [
    "## converted the datatypes \n",
    "final_data['order_purchase_timestamp'] = pd.to_datetime(final_data['order_purchase_timestamp'], errors='coerce')\n",
    "final_data['order_approved_at'] = pd.to_datetime(final_data['order_approved_at'], errors='coerce')\n",
    "final_data['order_delivered_carrier_date'] = pd.to_datetime(final_data['order_delivered_carrier_date'], errors='coerce')\n",
    "final_data['order_delivered_customer_date'] = pd.to_datetime(final_data['order_delivered_customer_date'], errors='coerce')\n",
    "final_data['order_estimated_delivery_date'] = pd.to_datetime(final_data['order_estimated_delivery_date'], errors='coerce')\n"
   ]
  },
  {
   "cell_type": "markdown",
   "metadata": {},
   "source": [
    "b. Understanding how many new customers acquired every month"
   ]
  },
  {
   "cell_type": "code",
   "execution_count": 79,
   "metadata": {},
   "outputs": [
    {
     "data": {
      "text/plain": [
       "1      8009\n",
       "2      8427\n",
       "3      9829\n",
       "4      9325\n",
       "5     10513\n",
       "6      9377\n",
       "7     10242\n",
       "8     10745\n",
       "9      4247\n",
       "10     4876\n",
       "11     7451\n",
       "12     5625\n",
       "Name: order_purchase_timestamp, dtype: int64"
      ]
     },
     "execution_count": 79,
     "metadata": {},
     "output_type": "execute_result"
    }
   ],
   "source": [
    "first_purchase = final_data.groupby('customer_id')['order_purchase_timestamp'].min()\n",
    "first_purchase_month = first_purchase.dt.month\n",
    "first_purchase_month.value_counts().sort_index()\n"
   ]
  },
  {
   "cell_type": "code",
   "execution_count": 204,
   "metadata": {},
   "outputs": [
    {
     "data": {
      "image/png": "[encoded data removed]",
      "text/plain": [
       "<Figure size 432x288 with 1 Axes>"
      ]
     },
     "metadata": {
      "needs_background": "light"
     },
     "output_type": "display_data"
    }
   ],
   "source": [
    "first_purchase_month.value_counts().sort_index().plot(kind = 'bar')\n",
    "plt.xlabel('month')\n",
    "plt.ylabel('no of customers')\n",
    "plt.title('new customers acquired every month')\n",
    "plt.show()"
   ]
  },
  {
   "cell_type": "markdown",
   "metadata": {},
   "source": [
    "c. Understand the retention of customers on month on month basis"
   ]
  },
  {
   "cell_type": "code",
   "execution_count": 80,
   "metadata": {},
   "outputs": [
    {
     "name": "stdout",
     "output_type": "stream",
     "text": [
      "1     0.0\n",
      "2     0.0\n",
      "3     0.0\n",
      "4     0.0\n",
      "5     0.0\n",
      "6     0.0\n",
      "7     0.0\n",
      "8     0.0\n",
      "9     0.0\n",
      "10    0.0\n",
      "11    0.0\n",
      "12    0.0\n",
      "dtype: float64\n"
     ]
    }
   ],
   "source": [
    "## Retention is determining how many customers \n",
    "##who made a purchase in a given month also made a purchase in the previous month\n",
    "\n",
    "final_data['purchase_month'] = final_data['order_purchase_timestamp'].dt.month\n",
    "\n",
    "first_purchase = final_data.groupby('customer_id')['purchase_month'].min()\n",
    "\n",
    "monthly_customers = final_data.groupby('purchase_month')['customer_id'].nunique()\n",
    "\n",
    "retention = {}\n",
    "\n",
    "for month in monthly_customers.index:\n",
    "    customers_current_month = set(final_data[final_data['purchase_month'] == month]['customer_id'])\n",
    "    \n",
    "    if month == 1:\n",
    "        previous_month = 12  \n",
    "    else:\n",
    "        previous_month = month - 1\n",
    "    \n",
    "    previous_month_customers = set(first_purchase[first_purchase == previous_month].index)\n",
    "    \n",
    "   \n",
    "    retained_customers = customers_current_month & previous_month_customers\n",
    "    \n",
    "\n",
    "    if len(previous_month_customers) > 0:\n",
    "        retention[month] = len(retained_customers) / len(previous_month_customers) * 100\n",
    "    else:\n",
    "        retention[month] = 0 \n",
    "\n",
    "\n",
    "retention_df = pd.Series(retention).sort_index()\n",
    "\n",
    "print(retention_df)\n",
    "\n",
    "## conculusion: retention rate is 0 "
   ]
  },
  {
   "cell_type": "markdown",
   "metadata": {},
   "source": [
    "d. How the revenues from existing/new customers on month on month basis\n"
   ]
  },
  {
   "cell_type": "code",
   "execution_count": 81,
   "metadata": {},
   "outputs": [],
   "source": [
    "first_purchase = final_data.groupby('customer_id')['purchase_month'].min()\n",
    "revenue_by_month ={}\n",
    "\n",
    "for month in final_data['purchase_month'].unique():\n",
    "    new_customers = set(first_purchase[first_purchase == month].index)\n",
    "    customers_in_month = set(final_data[final_data['purchase_month'] == month]['customer_id'])\n",
    "    existing_customers = customers_in_month - new_customers\n",
    "    \n",
    "    new_customers_revenue = final_data[(final_data['customer_id'].isin(new_customers)) & (final_data['purchase_month'] == month)]['total_revenue'].sum()\n",
    "    existing_customers_revenue = final_data[(final_data['customer_id'].isin(existing_customers)) & (final_data['purchase_month'] == month)]['total_revenue'].sum()\n",
    "    revenue_by_month[month] ={'new_customers_revenue': new_customers_revenue,\n",
    "        'existing_customers_revenue': existing_customers_revenue}\n",
    "    \n",
    "\n",
    "df = pd.DataFrame(revenue_by_month).T\n",
    "df.index.name = 'Month'\n",
    "df.sort_index(inplace = True)\n"
   ]
  },
  {
   "cell_type": "code",
   "execution_count": 82,
   "metadata": {},
   "outputs": [
    {
     "data": {
      "text/html": [
       "<div>\n",
       "<style scoped>\n",
       "    .dataframe tbody tr th:only-of-type {\n",
       "        vertical-align: middle;\n",
       "    }\n",
       "\n",
       "    .dataframe tbody tr th {\n",
       "        vertical-align: top;\n",
       "    }\n",
       "\n",
       "    .dataframe thead th {\n",
       "        text-align: right;\n",
       "    }\n",
       "</style>\n",
       "<table border=\"1\" class=\"dataframe\">\n",
       "  <thead>\n",
       "    <tr style=\"text-align: right;\">\n",
       "      <th></th>\n",
       "      <th>new_customers_revenue</th>\n",
       "      <th>existing_customers_revenue</th>\n",
       "    </tr>\n",
       "    <tr>\n",
       "      <th>Month</th>\n",
       "      <th></th>\n",
       "      <th></th>\n",
       "    </tr>\n",
       "  </thead>\n",
       "  <tbody>\n",
       "    <tr>\n",
       "      <th>1</th>\n",
       "      <td>1306772.95</td>\n",
       "      <td>0.0</td>\n",
       "    </tr>\n",
       "    <tr>\n",
       "      <th>2</th>\n",
       "      <td>1342966.61</td>\n",
       "      <td>0.0</td>\n",
       "    </tr>\n",
       "    <tr>\n",
       "      <th>3</th>\n",
       "      <td>1668858.94</td>\n",
       "      <td>0.0</td>\n",
       "    </tr>\n",
       "    <tr>\n",
       "      <th>4</th>\n",
       "      <td>1650857.06</td>\n",
       "      <td>0.0</td>\n",
       "    </tr>\n",
       "    <tr>\n",
       "      <th>5</th>\n",
       "      <td>1827967.20</td>\n",
       "      <td>0.0</td>\n",
       "    </tr>\n",
       "    <tr>\n",
       "      <th>6</th>\n",
       "      <td>1606805.50</td>\n",
       "      <td>0.0</td>\n",
       "    </tr>\n",
       "    <tr>\n",
       "      <th>7</th>\n",
       "      <td>1729281.11</td>\n",
       "      <td>0.0</td>\n",
       "    </tr>\n",
       "    <tr>\n",
       "      <th>8</th>\n",
       "      <td>1744564.69</td>\n",
       "      <td>0.0</td>\n",
       "    </tr>\n",
       "    <tr>\n",
       "      <th>9</th>\n",
       "      <td>768312.02</td>\n",
       "      <td>0.0</td>\n",
       "    </tr>\n",
       "    <tr>\n",
       "      <th>10</th>\n",
       "      <td>868062.26</td>\n",
       "      <td>0.0</td>\n",
       "    </tr>\n",
       "    <tr>\n",
       "      <th>11</th>\n",
       "      <td>1232074.30</td>\n",
       "      <td>0.0</td>\n",
       "    </tr>\n",
       "    <tr>\n",
       "      <th>12</th>\n",
       "      <td>898654.27</td>\n",
       "      <td>0.0</td>\n",
       "    </tr>\n",
       "  </tbody>\n",
       "</table>\n",
       "</div>"
      ],
      "text/plain": [
       "       new_customers_revenue  existing_customers_revenue\n",
       "Month                                                   \n",
       "1                 1306772.95                         0.0\n",
       "2                 1342966.61                         0.0\n",
       "3                 1668858.94                         0.0\n",
       "4                 1650857.06                         0.0\n",
       "5                 1827967.20                         0.0\n",
       "6                 1606805.50                         0.0\n",
       "7                 1729281.11                         0.0\n",
       "8                 1744564.69                         0.0\n",
       "9                  768312.02                         0.0\n",
       "10                 868062.26                         0.0\n",
       "11                1232074.30                         0.0\n",
       "12                 898654.27                         0.0"
      ]
     },
     "execution_count": 82,
     "metadata": {},
     "output_type": "execute_result"
    }
   ],
   "source": [
    "df"
   ]
  },
  {
   "cell_type": "code",
   "execution_count": 83,
   "metadata": {},
   "outputs": [
    {
     "data": {
      "image/png": "[encoded data removed]",
      "text/plain": [
       "<Figure size 432x288 with 1 Axes>"
      ]
     },
     "metadata": {
      "needs_background": "light"
     },
     "output_type": "display_data"
    }
   ],
   "source": [
    "df.plot(kind = 'bar' , y =[ 'new_customers_revenue','existing_customers_revenue'])\n",
    "plt.xlabel('month')\n",
    "plt.ylabel('revenue')\n",
    "plt.title('revenues from existing/new customers ')\n",
    "plt.show()"
   ]
  },
  {
   "cell_type": "markdown",
   "metadata": {},
   "source": [
    "e. Understand the trends/seasonality of sales, quantity by category, location, month,\n",
    "week, day, time, channel, payment method etc…\n"
   ]
  },
  {
   "cell_type": "code",
   "execution_count": 84,
   "metadata": {},
   "outputs": [],
   "source": [
    "final_data['purchase_week'] = final_data['order_purchase_timestamp'].dt.to_period('W')\n",
    "final_data['purchase_day'] = final_data['order_purchase_timestamp'].dt.day_name()\n",
    "final_data['purchase_time'] = final_data['order_purchase_timestamp'].dt.hour\n"
   ]
  },
  {
   "cell_type": "code",
   "execution_count": 85,
   "metadata": {},
   "outputs": [],
   "source": [
    "## timebased analysis\n",
    "##monthly sales\n",
    "\n",
    "monthly_sales = final_data.groupby('purchase_month')['total_revenue'].sum()\n",
    "monthly_quantity_sold = final_data.groupby('purchase_month')['order_item_id'].count()\n",
    "\n",
    "##weekely sales\n",
    "weekely_sales = final_data.groupby('purchase_week')['total_revenue'].sum()\n",
    "weekely_quantity_sold = final_data.groupby('purchase_week')['order_item_id'].count()\n",
    "\n",
    "daily_sales = final_data.groupby('purchase_day')['total_revenue'].sum()\n",
    "\n",
    "hourly_sales =final_data.groupby('purchase_time')['total_revenue'].sum()\n",
    "\n"
   ]
  },
  {
   "cell_type": "code",
   "execution_count": 86,
   "metadata": {},
   "outputs": [
    {
     "data": {
      "image/png": "[encoded data removed]",
      "text/plain": [
       "<Figure size 432x288 with 1 Axes>"
      ]
     },
     "metadata": {
      "needs_background": "light"
     },
     "output_type": "display_data"
    }
   ],
   "source": [
    "monthly_sales = final_data.groupby('purchase_month')['total_revenue'].sum().plot(kind= 'bar')\n"
   ]
  },
  {
   "cell_type": "code",
   "execution_count": 87,
   "metadata": {},
   "outputs": [
    {
     "data": {
      "image/png": "[encoded data removed]",
      "text/plain": [
       "<Figure size 720x432 with 1 Axes>"
      ]
     },
     "metadata": {},
     "output_type": "display_data"
    }
   ],
   "source": [
    "final_data.groupby('purchase_day')['total_revenue'].sum().plot(kind ='pie' , figsize =(10,6) , autopct='%1.1f%%' , startangle=90)\n",
    "plt.title('daily_sales')\n",
    "plt.show()\n"
   ]
  },
  {
   "cell_type": "code",
   "execution_count": 88,
   "metadata": {},
   "outputs": [],
   "source": [
    "##product category sales\n",
    "category_sales = final_data.groupby('product_category_name')['total_revenue'].sum()\n",
    "category_quantity_sold = final_data.groupby('product_category_name')['order_item_id'].count()"
   ]
  },
  {
   "cell_type": "code",
   "execution_count": 89,
   "metadata": {},
   "outputs": [
    {
     "data": {
      "image/png": "[encoded data removed]",
      "text/plain": [
       "<Figure size 432x288 with 1 Axes>"
      ]
     },
     "metadata": {
      "needs_background": "light"
     },
     "output_type": "display_data"
    }
   ],
   "source": [
    "final_data.groupby('product_category_name')['total_revenue'].sum().sort_values(ascending = False).head(5).plot(kind = 'bar')\n",
    "plt.title('product category sales')\n",
    "plt.show()"
   ]
  },
  {
   "cell_type": "code",
   "execution_count": 90,
   "metadata": {},
   "outputs": [],
   "source": [
    "##location wise sales\n",
    "location_sales = final_data.groupby('seller_state')['total_revenue'].sum()\n",
    "location_quantity_sold = final_data.groupby('seller_state')['order_item_id'].count()"
   ]
  },
  {
   "cell_type": "code",
   "execution_count": 91,
   "metadata": {},
   "outputs": [
    {
     "data": {
      "image/png": "[encoded data removed]",
      "text/plain": [
       "<Figure size 432x288 with 1 Axes>"
      ]
     },
     "metadata": {
      "needs_background": "light"
     },
     "output_type": "display_data"
    }
   ],
   "source": [
    "final_data.groupby('seller_state')['order_item_id'].count().plot(kind = 'bar')\n",
    "plt.title('location wise quantitly sold')\n",
    "plt.show()"
   ]
  },
  {
   "cell_type": "code",
   "execution_count": 92,
   "metadata": {},
   "outputs": [
    {
     "data": {
      "image/png": "[encoded data removed]",
      "text/plain": [
       "<Figure size 432x288 with 1 Axes>"
      ]
     },
     "metadata": {
      "needs_background": "light"
     },
     "output_type": "display_data"
    }
   ],
   "source": [
    "final_data.groupby('seller_state')['total_revenue'].sum().plot(kind='bar')\n",
    "plt.title('location wise sales')\n",
    "plt.show()"
   ]
  },
  {
   "cell_type": "code",
   "execution_count": 93,
   "metadata": {},
   "outputs": [],
   "source": [
    "##channel wise\n",
    "\n",
    "channelwise_sales = final_data.groupby('payment_type')['total_revenue'].sum()"
   ]
  },
  {
   "cell_type": "markdown",
   "metadata": {},
   "source": [
    "f. Popular Products by month, seller, state, category."
   ]
  },
  {
   "cell_type": "code",
   "execution_count": 95,
   "metadata": {},
   "outputs": [
    {
     "data": {
      "text/html": [
       "<div>\n",
       "<style scoped>\n",
       "    .dataframe tbody tr th:only-of-type {\n",
       "        vertical-align: middle;\n",
       "    }\n",
       "\n",
       "    .dataframe tbody tr th {\n",
       "        vertical-align: top;\n",
       "    }\n",
       "\n",
       "    .dataframe thead th {\n",
       "        text-align: right;\n",
       "    }\n",
       "</style>\n",
       "<table border=\"1\" class=\"dataframe\">\n",
       "  <thead>\n",
       "    <tr style=\"text-align: right;\">\n",
       "      <th></th>\n",
       "      <th>purchase_month</th>\n",
       "      <th>product_id</th>\n",
       "      <th>order_id</th>\n",
       "    </tr>\n",
       "  </thead>\n",
       "  <tbody>\n",
       "    <tr>\n",
       "      <th>3087</th>\n",
       "      <td>1</td>\n",
       "      <td>aca2eb7d00ea1a7b8ebd4e68314663af</td>\n",
       "      <td>107</td>\n",
       "    </tr>\n",
       "    <tr>\n",
       "      <th>1489</th>\n",
       "      <td>1</td>\n",
       "      <td>54d9ac713e253fa1fae9c8003b011c2a</td>\n",
       "      <td>76</td>\n",
       "    </tr>\n",
       "    <tr>\n",
       "      <th>960</th>\n",
       "      <td>1</td>\n",
       "      <td>36f60d45225e60c7da4558b070ce4b60</td>\n",
       "      <td>47</td>\n",
       "    </tr>\n",
       "    <tr>\n",
       "      <th>1613</th>\n",
       "      <td>1</td>\n",
       "      <td>5a848e4ab52fd5445cdc07aab1c40e48</td>\n",
       "      <td>42</td>\n",
       "    </tr>\n",
       "    <tr>\n",
       "      <th>3767</th>\n",
       "      <td>1</td>\n",
       "      <td>d1c427060a0f73f6b889a5c7c61f2ac4</td>\n",
       "      <td>39</td>\n",
       "    </tr>\n",
       "    <tr>\n",
       "      <th>...</th>\n",
       "      <td>...</td>\n",
       "      <td>...</td>\n",
       "      <td>...</td>\n",
       "    </tr>\n",
       "    <tr>\n",
       "      <th>60790</th>\n",
       "      <td>12</td>\n",
       "      <td>ffbc83054b3741a8d67fc59d9cf9d42d</td>\n",
       "      <td>1</td>\n",
       "    </tr>\n",
       "    <tr>\n",
       "      <th>60791</th>\n",
       "      <td>12</td>\n",
       "      <td>ffc0b406806006602c5853b00ab5f7fd</td>\n",
       "      <td>1</td>\n",
       "    </tr>\n",
       "    <tr>\n",
       "      <th>60792</th>\n",
       "      <td>12</td>\n",
       "      <td>ffce5ed9e0bcc2e46796b988cdac733b</td>\n",
       "      <td>1</td>\n",
       "    </tr>\n",
       "    <tr>\n",
       "      <th>60793</th>\n",
       "      <td>12</td>\n",
       "      <td>ffcfaba393e8ef71937c6e8421bc2868</td>\n",
       "      <td>1</td>\n",
       "    </tr>\n",
       "    <tr>\n",
       "      <th>60794</th>\n",
       "      <td>12</td>\n",
       "      <td>ffd34459c21034d1da6df9800de0d7a3</td>\n",
       "      <td>1</td>\n",
       "    </tr>\n",
       "  </tbody>\n",
       "</table>\n",
       "<p>60796 rows × 3 columns</p>\n",
       "</div>"
      ],
      "text/plain": [
       "       purchase_month                        product_id  order_id\n",
       "3087                1  aca2eb7d00ea1a7b8ebd4e68314663af       107\n",
       "1489                1  54d9ac713e253fa1fae9c8003b011c2a        76\n",
       "960                 1  36f60d45225e60c7da4558b070ce4b60        47\n",
       "1613                1  5a848e4ab52fd5445cdc07aab1c40e48        42\n",
       "3767                1  d1c427060a0f73f6b889a5c7c61f2ac4        39\n",
       "...               ...                               ...       ...\n",
       "60790              12  ffbc83054b3741a8d67fc59d9cf9d42d         1\n",
       "60791              12  ffc0b406806006602c5853b00ab5f7fd         1\n",
       "60792              12  ffce5ed9e0bcc2e46796b988cdac733b         1\n",
       "60793              12  ffcfaba393e8ef71937c6e8421bc2868         1\n",
       "60794              12  ffd34459c21034d1da6df9800de0d7a3         1\n",
       "\n",
       "[60796 rows x 3 columns]"
      ]
     },
     "execution_count": 95,
     "metadata": {},
     "output_type": "execute_result"
    }
   ],
   "source": [
    "##popular products by month\n",
    "popular_products = final_data.groupby(['purchase_month','product_id'])['order_id'].nunique().reset_index()\n",
    "popular_products = popular_products.sort_values(by = ['purchase_month','order_id'], ascending=[True, False])\n",
    "popular_products.sort_values(by = ['purchase_month','order_id'], ascending=[True, False], inplace=True)\n",
    "popular_products\n"
   ]
  },
  {
   "cell_type": "code",
   "execution_count": 96,
   "metadata": {},
   "outputs": [
    {
     "data": {
      "text/html": [
       "<div>\n",
       "<style scoped>\n",
       "    .dataframe tbody tr th:only-of-type {\n",
       "        vertical-align: middle;\n",
       "    }\n",
       "\n",
       "    .dataframe tbody tr th {\n",
       "        vertical-align: top;\n",
       "    }\n",
       "\n",
       "    .dataframe thead th {\n",
       "        text-align: right;\n",
       "    }\n",
       "</style>\n",
       "<table border=\"1\" class=\"dataframe\">\n",
       "  <thead>\n",
       "    <tr style=\"text-align: right;\">\n",
       "      <th></th>\n",
       "      <th>seller_id</th>\n",
       "      <th>product_id</th>\n",
       "      <th>order_id</th>\n",
       "    </tr>\n",
       "  </thead>\n",
       "  <tbody>\n",
       "    <tr>\n",
       "      <th>9881</th>\n",
       "      <td>4a3ca9315b744ce9f8e9374361493884</td>\n",
       "      <td>99a4788cb24856965c36a24e339b6058</td>\n",
       "      <td>461</td>\n",
       "    </tr>\n",
       "    <tr>\n",
       "      <th>21025</th>\n",
       "      <td>955fee9216a65b617aa5c0531780ce60</td>\n",
       "      <td>aca2eb7d00ea1a7b8ebd4e68314663af</td>\n",
       "      <td>431</td>\n",
       "    </tr>\n",
       "    <tr>\n",
       "      <th>4645</th>\n",
       "      <td>1f50f920176fa81dab994f9023523100</td>\n",
       "      <td>422879e10f46682990de24d770e7f83d</td>\n",
       "      <td>352</td>\n",
       "    </tr>\n",
       "    <tr>\n",
       "      <th>22211</th>\n",
       "      <td>a1043bafd471dff536d0c462352beb48</td>\n",
       "      <td>d1c427060a0f73f6b889a5c7c61f2ac4</td>\n",
       "      <td>323</td>\n",
       "    </tr>\n",
       "    <tr>\n",
       "      <th>4643</th>\n",
       "      <td>1f50f920176fa81dab994f9023523100</td>\n",
       "      <td>389d119b48cf3043d311335e499d9c6b</td>\n",
       "      <td>311</td>\n",
       "    </tr>\n",
       "    <tr>\n",
       "      <th>...</th>\n",
       "      <td>...</td>\n",
       "      <td>...</td>\n",
       "      <td>...</td>\n",
       "    </tr>\n",
       "    <tr>\n",
       "      <th>14345</th>\n",
       "      <td>6b3bd31ad8fcda4b2635ec9f3ff2ecdf</td>\n",
       "      <td>765a8070ece0f1383d0f5faf913dfb9b</td>\n",
       "      <td>1</td>\n",
       "    </tr>\n",
       "    <tr>\n",
       "      <th>14344</th>\n",
       "      <td>6b3bd31ad8fcda4b2635ec9f3ff2ecdf</td>\n",
       "      <td>72a30483855e2eafc67aee5dc2560482</td>\n",
       "      <td>1</td>\n",
       "    </tr>\n",
       "    <tr>\n",
       "      <th>14343</th>\n",
       "      <td>6b3bd31ad8fcda4b2635ec9f3ff2ecdf</td>\n",
       "      <td>712c57780310856377c327e662653625</td>\n",
       "      <td>1</td>\n",
       "    </tr>\n",
       "    <tr>\n",
       "      <th>14340</th>\n",
       "      <td>6b3bd31ad8fcda4b2635ec9f3ff2ecdf</td>\n",
       "      <td>516c257eda161040c8d23cf8af9a6edb</td>\n",
       "      <td>1</td>\n",
       "    </tr>\n",
       "    <tr>\n",
       "      <th>34447</th>\n",
       "      <td>ffff564a4f9085cd26170f4732393726</td>\n",
       "      <td>fa2de9e6a52f697fbd74ddbc2c15b16c</td>\n",
       "      <td>1</td>\n",
       "    </tr>\n",
       "  </tbody>\n",
       "</table>\n",
       "<p>34448 rows × 3 columns</p>\n",
       "</div>"
      ],
      "text/plain": [
       "                              seller_id                        product_id  \\\n",
       "9881   4a3ca9315b744ce9f8e9374361493884  99a4788cb24856965c36a24e339b6058   \n",
       "21025  955fee9216a65b617aa5c0531780ce60  aca2eb7d00ea1a7b8ebd4e68314663af   \n",
       "4645   1f50f920176fa81dab994f9023523100  422879e10f46682990de24d770e7f83d   \n",
       "22211  a1043bafd471dff536d0c462352beb48  d1c427060a0f73f6b889a5c7c61f2ac4   \n",
       "4643   1f50f920176fa81dab994f9023523100  389d119b48cf3043d311335e499d9c6b   \n",
       "...                                 ...                               ...   \n",
       "14345  6b3bd31ad8fcda4b2635ec9f3ff2ecdf  765a8070ece0f1383d0f5faf913dfb9b   \n",
       "14344  6b3bd31ad8fcda4b2635ec9f3ff2ecdf  72a30483855e2eafc67aee5dc2560482   \n",
       "14343  6b3bd31ad8fcda4b2635ec9f3ff2ecdf  712c57780310856377c327e662653625   \n",
       "14340  6b3bd31ad8fcda4b2635ec9f3ff2ecdf  516c257eda161040c8d23cf8af9a6edb   \n",
       "34447  ffff564a4f9085cd26170f4732393726  fa2de9e6a52f697fbd74ddbc2c15b16c   \n",
       "\n",
       "       order_id  \n",
       "9881        461  \n",
       "21025       431  \n",
       "4645        352  \n",
       "22211       323  \n",
       "4643        311  \n",
       "...         ...  \n",
       "14345         1  \n",
       "14344         1  \n",
       "14343         1  \n",
       "14340         1  \n",
       "34447         1  \n",
       "\n",
       "[34448 rows x 3 columns]"
      ]
     },
     "execution_count": 96,
     "metadata": {},
     "output_type": "execute_result"
    }
   ],
   "source": [
    "##popular product by seller\n",
    "popular_products = final_data.groupby(['seller_id','product_id'])['order_id'].nunique().reset_index()\n",
    "popular_products.sort_values(by = ['order_id'], ascending=False)"
   ]
  },
  {
   "cell_type": "code",
   "execution_count": 112,
   "metadata": {},
   "outputs": [
    {
     "data": {
      "text/html": [
       "<div>\n",
       "<style scoped>\n",
       "    .dataframe tbody tr th:only-of-type {\n",
       "        vertical-align: middle;\n",
       "    }\n",
       "\n",
       "    .dataframe tbody tr th {\n",
       "        vertical-align: top;\n",
       "    }\n",
       "\n",
       "    .dataframe thead th {\n",
       "        text-align: right;\n",
       "    }\n",
       "</style>\n",
       "<table border=\"1\" class=\"dataframe\">\n",
       "  <thead>\n",
       "    <tr style=\"text-align: right;\">\n",
       "      <th></th>\n",
       "      <th>seller_state</th>\n",
       "      <th>product_id</th>\n",
       "      <th>order_id</th>\n",
       "    </tr>\n",
       "  </thead>\n",
       "  <tbody>\n",
       "    <tr>\n",
       "      <th>27206</th>\n",
       "      <td>Gujarat</td>\n",
       "      <td>99a4788cb24856965c36a24e339b6058</td>\n",
       "      <td>467</td>\n",
       "    </tr>\n",
       "    <tr>\n",
       "      <th>14387</th>\n",
       "      <td>Andhra Pradesh</td>\n",
       "      <td>aca2eb7d00ea1a7b8ebd4e68314663af</td>\n",
       "      <td>431</td>\n",
       "    </tr>\n",
       "    <tr>\n",
       "      <th>5590</th>\n",
       "      <td>Andhra Pradesh</td>\n",
       "      <td>422879e10f46682990de24d770e7f83d</td>\n",
       "      <td>352</td>\n",
       "    </tr>\n",
       "    <tr>\n",
       "      <th>32952</th>\n",
       "      <td>West Bengal</td>\n",
       "      <td>d1c427060a0f73f6b889a5c7c61f2ac4</td>\n",
       "      <td>323</td>\n",
       "    </tr>\n",
       "    <tr>\n",
       "      <th>4758</th>\n",
       "      <td>Andhra Pradesh</td>\n",
       "      <td>389d119b48cf3043d311335e499d9c6b</td>\n",
       "      <td>311</td>\n",
       "    </tr>\n",
       "    <tr>\n",
       "      <th>...</th>\n",
       "      <td>...</td>\n",
       "      <td>...</td>\n",
       "      <td>...</td>\n",
       "    </tr>\n",
       "    <tr>\n",
       "      <th>13830</th>\n",
       "      <td>Andhra Pradesh</td>\n",
       "      <td>a5d89252158ff2fc7effe07dcffbbc14</td>\n",
       "      <td>1</td>\n",
       "    </tr>\n",
       "    <tr>\n",
       "      <th>13827</th>\n",
       "      <td>Andhra Pradesh</td>\n",
       "      <td>a5d39bdbd8f8873a55299222206fd522</td>\n",
       "      <td>1</td>\n",
       "    </tr>\n",
       "    <tr>\n",
       "      <th>13826</th>\n",
       "      <td>Andhra Pradesh</td>\n",
       "      <td>a5d22340ec8e3ee661b5f00e64bd3ee7</td>\n",
       "      <td>1</td>\n",
       "    </tr>\n",
       "    <tr>\n",
       "      <th>13825</th>\n",
       "      <td>Andhra Pradesh</td>\n",
       "      <td>a5cd90e0939b756beb465c31ec689e58</td>\n",
       "      <td>1</td>\n",
       "    </tr>\n",
       "    <tr>\n",
       "      <th>32960</th>\n",
       "      <td>West Bengal</td>\n",
       "      <td>fce345e86ad30c0a8de7f92f71ecb4cc</td>\n",
       "      <td>1</td>\n",
       "    </tr>\n",
       "  </tbody>\n",
       "</table>\n",
       "<p>32961 rows × 3 columns</p>\n",
       "</div>"
      ],
      "text/plain": [
       "         seller_state                        product_id  order_id\n",
       "27206         Gujarat  99a4788cb24856965c36a24e339b6058       467\n",
       "14387  Andhra Pradesh  aca2eb7d00ea1a7b8ebd4e68314663af       431\n",
       "5590   Andhra Pradesh  422879e10f46682990de24d770e7f83d       352\n",
       "32952     West Bengal  d1c427060a0f73f6b889a5c7c61f2ac4       323\n",
       "4758   Andhra Pradesh  389d119b48cf3043d311335e499d9c6b       311\n",
       "...               ...                               ...       ...\n",
       "13830  Andhra Pradesh  a5d89252158ff2fc7effe07dcffbbc14         1\n",
       "13827  Andhra Pradesh  a5d39bdbd8f8873a55299222206fd522         1\n",
       "13826  Andhra Pradesh  a5d22340ec8e3ee661b5f00e64bd3ee7         1\n",
       "13825  Andhra Pradesh  a5cd90e0939b756beb465c31ec689e58         1\n",
       "32960     West Bengal  fce345e86ad30c0a8de7f92f71ecb4cc         1\n",
       "\n",
       "[32961 rows x 3 columns]"
      ]
     },
     "execution_count": 112,
     "metadata": {},
     "output_type": "execute_result"
    }
   ],
   "source": [
    "##popular product by state\n",
    "popular_products = final_data.groupby(['seller_state','product_id'])['order_id'].nunique().reset_index()\n",
    "popular_products.sort_values(by = ['order_id'], ascending=False)"
   ]
  },
  {
   "cell_type": "code",
   "execution_count": 109,
   "metadata": {},
   "outputs": [
    {
     "data": {
      "text/html": [
       "<div>\n",
       "<style scoped>\n",
       "    .dataframe tbody tr th:only-of-type {\n",
       "        vertical-align: middle;\n",
       "    }\n",
       "\n",
       "    .dataframe tbody tr th {\n",
       "        vertical-align: top;\n",
       "    }\n",
       "\n",
       "    .dataframe thead th {\n",
       "        text-align: right;\n",
       "    }\n",
       "</style>\n",
       "<table border=\"1\" class=\"dataframe\">\n",
       "  <thead>\n",
       "    <tr style=\"text-align: right;\">\n",
       "      <th></th>\n",
       "      <th>product_id</th>\n",
       "      <th>product_category_name</th>\n",
       "      <th>order_id</th>\n",
       "    </tr>\n",
       "  </thead>\n",
       "  <tbody>\n",
       "    <tr>\n",
       "      <th>19387</th>\n",
       "      <td>99a4788cb24856965c36a24e339b6058</td>\n",
       "      <td>Bed_Bath_Table</td>\n",
       "      <td>467</td>\n",
       "    </tr>\n",
       "    <tr>\n",
       "      <th>21716</th>\n",
       "      <td>aca2eb7d00ea1a7b8ebd4e68314663af</td>\n",
       "      <td>Furniture_Decor</td>\n",
       "      <td>431</td>\n",
       "    </tr>\n",
       "    <tr>\n",
       "      <th>8453</th>\n",
       "      <td>422879e10f46682990de24d770e7f83d</td>\n",
       "      <td>Garden_Tools</td>\n",
       "      <td>352</td>\n",
       "    </tr>\n",
       "    <tr>\n",
       "      <th>26533</th>\n",
       "      <td>d1c427060a0f73f6b889a5c7c61f2ac4</td>\n",
       "      <td>Computers_Accessories</td>\n",
       "      <td>323</td>\n",
       "    </tr>\n",
       "    <tr>\n",
       "      <th>7228</th>\n",
       "      <td>389d119b48cf3043d311335e499d9c6b</td>\n",
       "      <td>Garden_Tools</td>\n",
       "      <td>311</td>\n",
       "    </tr>\n",
       "    <tr>\n",
       "      <th>...</th>\n",
       "      <td>...</td>\n",
       "      <td>...</td>\n",
       "      <td>...</td>\n",
       "    </tr>\n",
       "    <tr>\n",
       "      <th>13452</th>\n",
       "      <td>69eeb1281add8e5d8b916637f9f11a1b</td>\n",
       "      <td>Bed_Bath_Table</td>\n",
       "      <td>1</td>\n",
       "    </tr>\n",
       "    <tr>\n",
       "      <th>13451</th>\n",
       "      <td>69e8f74916646e186145f5648840ea9e</td>\n",
       "      <td>Garden_Tools</td>\n",
       "      <td>1</td>\n",
       "    </tr>\n",
       "    <tr>\n",
       "      <th>13450</th>\n",
       "      <td>69e4611a0bf0f672e3a83b719cdb76ab</td>\n",
       "      <td>Telephony</td>\n",
       "      <td>1</td>\n",
       "    </tr>\n",
       "    <tr>\n",
       "      <th>13449</th>\n",
       "      <td>69e3a7b303638194dc5edd5e6abff8ff</td>\n",
       "      <td>Fashion_Shoes</td>\n",
       "      <td>1</td>\n",
       "    </tr>\n",
       "    <tr>\n",
       "      <th>32327</th>\n",
       "      <td>fffe9eeff12fcbd74a2f2b007dde0c58</td>\n",
       "      <td>Toys</td>\n",
       "      <td>1</td>\n",
       "    </tr>\n",
       "  </tbody>\n",
       "</table>\n",
       "<p>32328 rows × 3 columns</p>\n",
       "</div>"
      ],
      "text/plain": [
       "                             product_id  product_category_name  order_id\n",
       "19387  99a4788cb24856965c36a24e339b6058         Bed_Bath_Table       467\n",
       "21716  aca2eb7d00ea1a7b8ebd4e68314663af        Furniture_Decor       431\n",
       "8453   422879e10f46682990de24d770e7f83d           Garden_Tools       352\n",
       "26533  d1c427060a0f73f6b889a5c7c61f2ac4  Computers_Accessories       323\n",
       "7228   389d119b48cf3043d311335e499d9c6b           Garden_Tools       311\n",
       "...                                 ...                    ...       ...\n",
       "13452  69eeb1281add8e5d8b916637f9f11a1b         Bed_Bath_Table         1\n",
       "13451  69e8f74916646e186145f5648840ea9e           Garden_Tools         1\n",
       "13450  69e4611a0bf0f672e3a83b719cdb76ab              Telephony         1\n",
       "13449  69e3a7b303638194dc5edd5e6abff8ff          Fashion_Shoes         1\n",
       "32327  fffe9eeff12fcbd74a2f2b007dde0c58                   Toys         1\n",
       "\n",
       "[32328 rows x 3 columns]"
      ]
     },
     "execution_count": 109,
     "metadata": {},
     "output_type": "execute_result"
    }
   ],
   "source": [
    "##popular product by category\n",
    "popular_products = final_data.groupby(['product_id','product_category_name'])['order_id'].nunique().reset_index()\n",
    "popular_products.sort_values(by = ['order_id'], ascending=False)"
   ]
  },
  {
   "cell_type": "markdown",
   "metadata": {},
   "source": [
    "g.Popular categories by state, month"
   ]
  },
  {
   "cell_type": "code",
   "execution_count": 118,
   "metadata": {},
   "outputs": [
    {
     "data": {
      "text/html": [
       "<div>\n",
       "<style scoped>\n",
       "    .dataframe tbody tr th:only-of-type {\n",
       "        vertical-align: middle;\n",
       "    }\n",
       "\n",
       "    .dataframe tbody tr th {\n",
       "        vertical-align: top;\n",
       "    }\n",
       "\n",
       "    .dataframe thead th {\n",
       "        text-align: right;\n",
       "    }\n",
       "</style>\n",
       "<table border=\"1\" class=\"dataframe\">\n",
       "  <thead>\n",
       "    <tr style=\"text-align: right;\">\n",
       "      <th></th>\n",
       "      <th>seller_state</th>\n",
       "      <th>product_category_name</th>\n",
       "      <th>order_id</th>\n",
       "    </tr>\n",
       "  </thead>\n",
       "  <tbody>\n",
       "    <tr>\n",
       "      <th>42</th>\n",
       "      <td>Andhra Pradesh</td>\n",
       "      <td>Health_Beauty</td>\n",
       "      <td>6986</td>\n",
       "    </tr>\n",
       "    <tr>\n",
       "      <th>202</th>\n",
       "      <td>Gujarat</td>\n",
       "      <td>Bed_Bath_Table</td>\n",
       "      <td>5412</td>\n",
       "    </tr>\n",
       "    <tr>\n",
       "      <th>14</th>\n",
       "      <td>Andhra Pradesh</td>\n",
       "      <td>Computers_Accessories</td>\n",
       "      <td>5329</td>\n",
       "    </tr>\n",
       "    <tr>\n",
       "      <th>63</th>\n",
       "      <td>Andhra Pradesh</td>\n",
       "      <td>Sports_Leisure</td>\n",
       "      <td>4571</td>\n",
       "    </tr>\n",
       "    <tr>\n",
       "      <th>68</th>\n",
       "      <td>Andhra Pradesh</td>\n",
       "      <td>Watches_Gifts</td>\n",
       "      <td>4246</td>\n",
       "    </tr>\n",
       "    <tr>\n",
       "      <th>...</th>\n",
       "      <td>...</td>\n",
       "      <td>...</td>\n",
       "      <td>...</td>\n",
       "    </tr>\n",
       "    <tr>\n",
       "      <th>260</th>\n",
       "      <td>Haryana</td>\n",
       "      <td>Christmas_Supplies</td>\n",
       "      <td>1</td>\n",
       "    </tr>\n",
       "    <tr>\n",
       "      <th>467</th>\n",
       "      <td>Maharashtra</td>\n",
       "      <td>Food_Drink</td>\n",
       "      <td>1</td>\n",
       "    </tr>\n",
       "    <tr>\n",
       "      <th>45</th>\n",
       "      <td>Andhra Pradesh</td>\n",
       "      <td>Home_Comfort_2</td>\n",
       "      <td>1</td>\n",
       "    </tr>\n",
       "    <tr>\n",
       "      <th>264</th>\n",
       "      <td>Haryana</td>\n",
       "      <td>Construction_Tools_Lights</td>\n",
       "      <td>1</td>\n",
       "    </tr>\n",
       "    <tr>\n",
       "      <th>102</th>\n",
       "      <td>Chhattisgarh</td>\n",
       "      <td>Computers</td>\n",
       "      <td>1</td>\n",
       "    </tr>\n",
       "  </tbody>\n",
       "</table>\n",
       "<p>595 rows × 3 columns</p>\n",
       "</div>"
      ],
      "text/plain": [
       "       seller_state      product_category_name  order_id\n",
       "42   Andhra Pradesh              Health_Beauty      6986\n",
       "202         Gujarat             Bed_Bath_Table      5412\n",
       "14   Andhra Pradesh      Computers_Accessories      5329\n",
       "63   Andhra Pradesh             Sports_Leisure      4571\n",
       "68   Andhra Pradesh              Watches_Gifts      4246\n",
       "..              ...                        ...       ...\n",
       "260         Haryana         Christmas_Supplies         1\n",
       "467     Maharashtra                 Food_Drink         1\n",
       "45   Andhra Pradesh             Home_Comfort_2         1\n",
       "264         Haryana  Construction_Tools_Lights         1\n",
       "102    Chhattisgarh                  Computers         1\n",
       "\n",
       "[595 rows x 3 columns]"
      ]
     },
     "execution_count": 118,
     "metadata": {},
     "output_type": "execute_result"
    }
   ],
   "source": [
    "##popular cateogies by state\n",
    "final_data.groupby(['seller_state' , 'product_category_name'])['order_id'].nunique().reset_index().sort_values(by = 'order_id' , ascending = False)"
   ]
  },
  {
   "cell_type": "code",
   "execution_count": 119,
   "metadata": {},
   "outputs": [
    {
     "data": {
      "text/html": [
       "<div>\n",
       "<style scoped>\n",
       "    .dataframe tbody tr th:only-of-type {\n",
       "        vertical-align: middle;\n",
       "    }\n",
       "\n",
       "    .dataframe tbody tr th {\n",
       "        vertical-align: top;\n",
       "    }\n",
       "\n",
       "    .dataframe thead th {\n",
       "        text-align: right;\n",
       "    }\n",
       "</style>\n",
       "<table border=\"1\" class=\"dataframe\">\n",
       "  <thead>\n",
       "    <tr style=\"text-align: right;\">\n",
       "      <th></th>\n",
       "      <th>purchase_month</th>\n",
       "      <th>product_category_name</th>\n",
       "      <th>order_id</th>\n",
       "    </tr>\n",
       "  </thead>\n",
       "  <tbody>\n",
       "    <tr>\n",
       "      <th>513</th>\n",
       "      <td>8</td>\n",
       "      <td>Health_Beauty</td>\n",
       "      <td>1123</td>\n",
       "    </tr>\n",
       "    <tr>\n",
       "      <th>376</th>\n",
       "      <td>6</td>\n",
       "      <td>Health_Beauty</td>\n",
       "      <td>1038</td>\n",
       "    </tr>\n",
       "    <tr>\n",
       "      <th>409</th>\n",
       "      <td>7</td>\n",
       "      <td>Bed_Bath_Table</td>\n",
       "      <td>1031</td>\n",
       "    </tr>\n",
       "    <tr>\n",
       "      <th>478</th>\n",
       "      <td>8</td>\n",
       "      <td>Bed_Bath_Table</td>\n",
       "      <td>1006</td>\n",
       "    </tr>\n",
       "    <tr>\n",
       "      <th>342</th>\n",
       "      <td>6</td>\n",
       "      <td>Bed_Bath_Table</td>\n",
       "      <td>992</td>\n",
       "    </tr>\n",
       "    <tr>\n",
       "      <th>...</th>\n",
       "      <td>...</td>\n",
       "      <td>...</td>\n",
       "      <td>...</td>\n",
       "    </tr>\n",
       "    <tr>\n",
       "      <th>656</th>\n",
       "      <td>10</td>\n",
       "      <td>Music</td>\n",
       "      <td>1</td>\n",
       "    </tr>\n",
       "    <tr>\n",
       "      <th>632</th>\n",
       "      <td>10</td>\n",
       "      <td>Fashion_Childrens_Clothes</td>\n",
       "      <td>1</td>\n",
       "    </tr>\n",
       "    <tr>\n",
       "      <th>769</th>\n",
       "      <td>12</td>\n",
       "      <td>Furniture_Bedroom</td>\n",
       "      <td>1</td>\n",
       "    </tr>\n",
       "    <tr>\n",
       "      <th>202</th>\n",
       "      <td>4</td>\n",
       "      <td>Arts_And_Craftmanship</td>\n",
       "      <td>1</td>\n",
       "    </tr>\n",
       "    <tr>\n",
       "      <th>630</th>\n",
       "      <td>10</td>\n",
       "      <td>Fashio_Female_Clothing</td>\n",
       "      <td>1</td>\n",
       "    </tr>\n",
       "  </tbody>\n",
       "</table>\n",
       "<p>797 rows × 3 columns</p>\n",
       "</div>"
      ],
      "text/plain": [
       "     purchase_month      product_category_name  order_id\n",
       "513               8              Health_Beauty      1123\n",
       "376               6              Health_Beauty      1038\n",
       "409               7             Bed_Bath_Table      1031\n",
       "478               8             Bed_Bath_Table      1006\n",
       "342               6             Bed_Bath_Table       992\n",
       "..              ...                        ...       ...\n",
       "656              10                      Music         1\n",
       "632              10  Fashion_Childrens_Clothes         1\n",
       "769              12          Furniture_Bedroom         1\n",
       "202               4      Arts_And_Craftmanship         1\n",
       "630              10     Fashio_Female_Clothing         1\n",
       "\n",
       "[797 rows x 3 columns]"
      ]
     },
     "execution_count": 119,
     "metadata": {},
     "output_type": "execute_result"
    }
   ],
   "source": [
    "##popular product by month\n",
    "final_data.groupby(['purchase_month' , 'product_category_name'])['order_id'].nunique().reset_index().sort_values(by = 'order_id' , ascending = False)"
   ]
  },
  {
   "cell_type": "markdown",
   "metadata": {},
   "source": [
    "h. List top 10 most expensive products sorted by price"
   ]
  },
  {
   "cell_type": "code",
   "execution_count": 126,
   "metadata": {},
   "outputs": [
    {
     "data": {
      "text/html": [
       "<div>\n",
       "<style scoped>\n",
       "    .dataframe tbody tr th:only-of-type {\n",
       "        vertical-align: middle;\n",
       "    }\n",
       "\n",
       "    .dataframe tbody tr th {\n",
       "        vertical-align: top;\n",
       "    }\n",
       "\n",
       "    .dataframe thead th {\n",
       "        text-align: right;\n",
       "    }\n",
       "</style>\n",
       "<table border=\"1\" class=\"dataframe\">\n",
       "  <thead>\n",
       "    <tr style=\"text-align: right;\">\n",
       "      <th></th>\n",
       "      <th>product_id</th>\n",
       "      <th>price</th>\n",
       "    </tr>\n",
       "  </thead>\n",
       "  <tbody>\n",
       "    <tr>\n",
       "      <th>3691</th>\n",
       "      <td>489ae2aa008f021502940f251d4cce7f</td>\n",
       "      <td>6735.00</td>\n",
       "    </tr>\n",
       "    <tr>\n",
       "      <th>117875</th>\n",
       "      <td>69c590f7ffc7bf8db97190b6cb6ed62e</td>\n",
       "      <td>6729.00</td>\n",
       "    </tr>\n",
       "    <tr>\n",
       "      <th>113227</th>\n",
       "      <td>1bdf5e6731585cf01aa8169c7028d6ad</td>\n",
       "      <td>6499.00</td>\n",
       "    </tr>\n",
       "    <tr>\n",
       "      <th>78145</th>\n",
       "      <td>a6492cc69376c469ab6f61d8f44de961</td>\n",
       "      <td>4799.00</td>\n",
       "    </tr>\n",
       "    <tr>\n",
       "      <th>11787</th>\n",
       "      <td>c3ed642d592594bb648ff4a04cee2747</td>\n",
       "      <td>4690.00</td>\n",
       "    </tr>\n",
       "    <tr>\n",
       "      <th>65346</th>\n",
       "      <td>259037a6a41845e455183f89c5035f18</td>\n",
       "      <td>4590.00</td>\n",
       "    </tr>\n",
       "    <tr>\n",
       "      <th>30740</th>\n",
       "      <td>a1beef8f3992dbd4cd8726796aa69c53</td>\n",
       "      <td>4399.87</td>\n",
       "    </tr>\n",
       "    <tr>\n",
       "      <th>48298</th>\n",
       "      <td>6cdf8fc1d741c76586d8b6b15e9eef30</td>\n",
       "      <td>4099.99</td>\n",
       "    </tr>\n",
       "    <tr>\n",
       "      <th>82309</th>\n",
       "      <td>dd113cb02b2af9c8e5787e8f1f0722f6</td>\n",
       "      <td>4059.00</td>\n",
       "    </tr>\n",
       "    <tr>\n",
       "      <th>62210</th>\n",
       "      <td>6902c1962dd19d540807d0ab8fade5c6</td>\n",
       "      <td>3999.90</td>\n",
       "    </tr>\n",
       "  </tbody>\n",
       "</table>\n",
       "</div>"
      ],
      "text/plain": [
       "                              product_id    price\n",
       "3691    489ae2aa008f021502940f251d4cce7f  6735.00\n",
       "117875  69c590f7ffc7bf8db97190b6cb6ed62e  6729.00\n",
       "113227  1bdf5e6731585cf01aa8169c7028d6ad  6499.00\n",
       "78145   a6492cc69376c469ab6f61d8f44de961  4799.00\n",
       "11787   c3ed642d592594bb648ff4a04cee2747  4690.00\n",
       "65346   259037a6a41845e455183f89c5035f18  4590.00\n",
       "30740   a1beef8f3992dbd4cd8726796aa69c53  4399.87\n",
       "48298   6cdf8fc1d741c76586d8b6b15e9eef30  4099.99\n",
       "82309   dd113cb02b2af9c8e5787e8f1f0722f6  4059.00\n",
       "62210   6902c1962dd19d540807d0ab8fade5c6  3999.90"
      ]
     },
     "execution_count": 126,
     "metadata": {},
     "output_type": "execute_result"
    }
   ],
   "source": [
    "final_data[['product_id','price']].sort_values(by = 'price' , ascending = False).head(10)"
   ]
  },
  {
   "cell_type": "code",
   "execution_count": 202,
   "metadata": {},
   "outputs": [
    {
     "data": {
      "image/png": "[encoded data removed]",
      "text/plain": [
       "<Figure size 432x288 with 1 Axes>"
      ]
     },
     "metadata": {
      "needs_background": "light"
     },
     "output_type": "display_data"
    }
   ],
   "source": [
    "final_data[['product_id','price']].sort_values(by = 'price' , ascending = False).head(10).plot(kind='bar', x = 'product_id')\n",
    "plt.title('most expensive product_id')\n",
    "plt.xlabel('product id')\n",
    "plt.ylabel('price')\n",
    "plt.show()"
   ]
  },
  {
   "cell_type": "markdown",
   "metadata": {},
   "source": [
    "2. Performing Customers/sellers Segmentation\n",
    "a. Divide the customers into groups based on the revenue generated\n",
    "b. Divide the sellers into groups based on the revenue generated "
   ]
  },
  {
   "cell_type": "code",
   "execution_count": 97,
   "metadata": {},
   "outputs": [
    {
     "data": {
      "text/html": [
       "<div>\n",
       "<style scoped>\n",
       "    .dataframe tbody tr th:only-of-type {\n",
       "        vertical-align: middle;\n",
       "    }\n",
       "\n",
       "    .dataframe tbody tr th {\n",
       "        vertical-align: top;\n",
       "    }\n",
       "\n",
       "    .dataframe thead th {\n",
       "        text-align: right;\n",
       "    }\n",
       "</style>\n",
       "<table border=\"1\" class=\"dataframe\">\n",
       "  <thead>\n",
       "    <tr style=\"text-align: right;\">\n",
       "      <th></th>\n",
       "      <th>customer_id</th>\n",
       "      <th>total_revenue</th>\n",
       "      <th>customer_segmentation</th>\n",
       "    </tr>\n",
       "  </thead>\n",
       "  <tbody>\n",
       "    <tr>\n",
       "      <th>0</th>\n",
       "      <td>00012a2ce6f8dcda20d059ce98491703</td>\n",
       "      <td>114.74</td>\n",
       "      <td>low</td>\n",
       "    </tr>\n",
       "    <tr>\n",
       "      <th>1</th>\n",
       "      <td>000161a058600d5901f007fab4c27140</td>\n",
       "      <td>67.41</td>\n",
       "      <td>low</td>\n",
       "    </tr>\n",
       "    <tr>\n",
       "      <th>2</th>\n",
       "      <td>0001fd6190edaaf884bcaf3d49edf079</td>\n",
       "      <td>195.42</td>\n",
       "      <td>low</td>\n",
       "    </tr>\n",
       "    <tr>\n",
       "      <th>3</th>\n",
       "      <td>0002414f95344307404f0ace7a26f1d5</td>\n",
       "      <td>179.35</td>\n",
       "      <td>low</td>\n",
       "    </tr>\n",
       "    <tr>\n",
       "      <th>4</th>\n",
       "      <td>000379cdec625522490c315e70c7a9fb</td>\n",
       "      <td>107.01</td>\n",
       "      <td>low</td>\n",
       "    </tr>\n",
       "    <tr>\n",
       "      <th>...</th>\n",
       "      <td>...</td>\n",
       "      <td>...</td>\n",
       "      <td>...</td>\n",
       "    </tr>\n",
       "    <tr>\n",
       "      <th>98661</th>\n",
       "      <td>fffcb937e9dd47a13f05ecb8290f4d3e</td>\n",
       "      <td>91.91</td>\n",
       "      <td>low</td>\n",
       "    </tr>\n",
       "    <tr>\n",
       "      <th>98662</th>\n",
       "      <td>fffecc9f79fd8c764f843e9951b11341</td>\n",
       "      <td>244.08</td>\n",
       "      <td>low</td>\n",
       "    </tr>\n",
       "    <tr>\n",
       "      <th>98663</th>\n",
       "      <td>fffeda5b6d849fbd39689bb92087f431</td>\n",
       "      <td>63.13</td>\n",
       "      <td>low</td>\n",
       "    </tr>\n",
       "    <tr>\n",
       "      <th>98664</th>\n",
       "      <td>ffff42319e9b2d713724ae527742af25</td>\n",
       "      <td>214.13</td>\n",
       "      <td>low</td>\n",
       "    </tr>\n",
       "    <tr>\n",
       "      <th>98665</th>\n",
       "      <td>ffffa3172527f765de70084a7e53aae8</td>\n",
       "      <td>45.50</td>\n",
       "      <td>low</td>\n",
       "    </tr>\n",
       "  </tbody>\n",
       "</table>\n",
       "<p>98666 rows × 3 columns</p>\n",
       "</div>"
      ],
      "text/plain": [
       "                            customer_id  total_revenue customer_segmentation\n",
       "0      00012a2ce6f8dcda20d059ce98491703         114.74                   low\n",
       "1      000161a058600d5901f007fab4c27140          67.41                   low\n",
       "2      0001fd6190edaaf884bcaf3d49edf079         195.42                   low\n",
       "3      0002414f95344307404f0ace7a26f1d5         179.35                   low\n",
       "4      000379cdec625522490c315e70c7a9fb         107.01                   low\n",
       "...                                 ...            ...                   ...\n",
       "98661  fffcb937e9dd47a13f05ecb8290f4d3e          91.91                   low\n",
       "98662  fffecc9f79fd8c764f843e9951b11341         244.08                   low\n",
       "98663  fffeda5b6d849fbd39689bb92087f431          63.13                   low\n",
       "98664  ffff42319e9b2d713724ae527742af25         214.13                   low\n",
       "98665  ffffa3172527f765de70084a7e53aae8          45.50                   low\n",
       "\n",
       "[98666 rows x 3 columns]"
      ]
     },
     "execution_count": 97,
     "metadata": {},
     "output_type": "execute_result"
    }
   ],
   "source": [
    "##customer segmentation\n",
    "customer_revenue = final_data.groupby('customer_id')['total_revenue'].sum().reset_index()\n",
    "customer_revenue['customer_segmentation'] = pd.cut(customer_revenue.total_revenue , bins = 4 , labels = ['low','medium','high','very high'])\n",
    "customer_revenue"
   ]
  },
  {
   "cell_type": "code",
   "execution_count": 98,
   "metadata": {},
   "outputs": [
    {
     "data": {
      "text/html": [
       "<div>\n",
       "<style scoped>\n",
       "    .dataframe tbody tr th:only-of-type {\n",
       "        vertical-align: middle;\n",
       "    }\n",
       "\n",
       "    .dataframe tbody tr th {\n",
       "        vertical-align: top;\n",
       "    }\n",
       "\n",
       "    .dataframe thead th {\n",
       "        text-align: right;\n",
       "    }\n",
       "</style>\n",
       "<table border=\"1\" class=\"dataframe\">\n",
       "  <thead>\n",
       "    <tr style=\"text-align: right;\">\n",
       "      <th></th>\n",
       "      <th>seller_id</th>\n",
       "      <th>total_revenue</th>\n",
       "      <th>seller_segmentation</th>\n",
       "    </tr>\n",
       "  </thead>\n",
       "  <tbody>\n",
       "    <tr>\n",
       "      <th>0</th>\n",
       "      <td>0015a82c2db000af6aaaf3ae2ecb0532</td>\n",
       "      <td>2748.06</td>\n",
       "      <td>low</td>\n",
       "    </tr>\n",
       "    <tr>\n",
       "      <th>1</th>\n",
       "      <td>001cca7ae9ae17fb1caed9dfb1094831</td>\n",
       "      <td>34175.38</td>\n",
       "      <td>low</td>\n",
       "    </tr>\n",
       "    <tr>\n",
       "      <th>2</th>\n",
       "      <td>001e6ad469a905060d959994f1b41e4f</td>\n",
       "      <td>267.94</td>\n",
       "      <td>low</td>\n",
       "    </tr>\n",
       "    <tr>\n",
       "      <th>3</th>\n",
       "      <td>002100f778ceb8431b7a1020ff7ab48f</td>\n",
       "      <td>2141.41</td>\n",
       "      <td>low</td>\n",
       "    </tr>\n",
       "    <tr>\n",
       "      <th>4</th>\n",
       "      <td>003554e2dce176b5555353e4f3555ac8</td>\n",
       "      <td>139.38</td>\n",
       "      <td>low</td>\n",
       "    </tr>\n",
       "    <tr>\n",
       "      <th>...</th>\n",
       "      <td>...</td>\n",
       "      <td>...</td>\n",
       "      <td>...</td>\n",
       "    </tr>\n",
       "    <tr>\n",
       "      <th>3090</th>\n",
       "      <td>ffcfefa19b08742c5d315f2791395ee5</td>\n",
       "      <td>79.52</td>\n",
       "      <td>low</td>\n",
       "    </tr>\n",
       "    <tr>\n",
       "      <th>3091</th>\n",
       "      <td>ffdd9f82b9a447f6f8d4b91554cc7dd3</td>\n",
       "      <td>2884.73</td>\n",
       "      <td>low</td>\n",
       "    </tr>\n",
       "    <tr>\n",
       "      <th>3092</th>\n",
       "      <td>ffeee66ac5d5a62fe688b9d26f83f534</td>\n",
       "      <td>2259.55</td>\n",
       "      <td>low</td>\n",
       "    </tr>\n",
       "    <tr>\n",
       "      <th>3093</th>\n",
       "      <td>fffd5413c0700ac820c7069d66d98c89</td>\n",
       "      <td>12277.04</td>\n",
       "      <td>low</td>\n",
       "    </tr>\n",
       "    <tr>\n",
       "      <th>3094</th>\n",
       "      <td>ffff564a4f9085cd26170f4732393726</td>\n",
       "      <td>1770.86</td>\n",
       "      <td>low</td>\n",
       "    </tr>\n",
       "  </tbody>\n",
       "</table>\n",
       "<p>3095 rows × 3 columns</p>\n",
       "</div>"
      ],
      "text/plain": [
       "                             seller_id  total_revenue seller_segmentation\n",
       "0     0015a82c2db000af6aaaf3ae2ecb0532        2748.06                 low\n",
       "1     001cca7ae9ae17fb1caed9dfb1094831       34175.38                 low\n",
       "2     001e6ad469a905060d959994f1b41e4f         267.94                 low\n",
       "3     002100f778ceb8431b7a1020ff7ab48f        2141.41                 low\n",
       "4     003554e2dce176b5555353e4f3555ac8         139.38                 low\n",
       "...                                ...            ...                 ...\n",
       "3090  ffcfefa19b08742c5d315f2791395ee5          79.52                 low\n",
       "3091  ffdd9f82b9a447f6f8d4b91554cc7dd3        2884.73                 low\n",
       "3092  ffeee66ac5d5a62fe688b9d26f83f534        2259.55                 low\n",
       "3093  fffd5413c0700ac820c7069d66d98c89       12277.04                 low\n",
       "3094  ffff564a4f9085cd26170f4732393726        1770.86                 low\n",
       "\n",
       "[3095 rows x 3 columns]"
      ]
     },
     "execution_count": 98,
     "metadata": {},
     "output_type": "execute_result"
    }
   ],
   "source": [
    "##seller segmentation\n",
    "\n",
    "seller_revenue = final_data.groupby('seller_id')['total_revenue'].sum().reset_index()\n",
    "seller_revenue['seller_segmentation'] = pd.cut(seller_revenue.total_revenue , bins = 4 , labels = ['low','medium','high','very high'])\n",
    "seller_revenue"
   ]
  },
  {
   "cell_type": "markdown",
   "metadata": {},
   "source": [
    "3. Cross-Selling (Which products are selling together)\n",
    "Hint: We need to find which of the top 10 combinations of products are selling together in\n",
    "each transaction. (combination of 2 or 3 buying together)\n"
   ]
  },
  {
   "cell_type": "code",
   "execution_count": 100,
   "metadata": {},
   "outputs": [],
   "source": [
    "##each order will have a list of products that were purchased together in that particular order.\n",
    "## _ used to ignore the index\n",
    "transactions_product_list = final_data.groupby('order_id')['product_id'].apply(list).reset_index()\n",
    "\n",
    "from itertools import combinations\n",
    "\n",
    "combination_2 =[]\n",
    "combination_3 = []\n",
    "\n",
    "for _, row in transactions_product_list.iterrows():\n",
    "    products_order = row ['product_id']\n",
    "    combination_2.extend(combinations(products_order,2))\n",
    "    combination_3.extend(combinations(products_order,3))\n",
    "    \n",
    "    \n",
    "df1 = pd.DataFrame(combination_2 , columns = ['product1','product2'])\n",
    "df2 = pd.DataFrame(combination_3 , columns = ['product1','product2' ,'product3'])\n",
    "\n",
    "count1 = df1.groupby(['product1','product2']).size().reset_index(name = 'count').sort_values(by = 'count' , ascending = False).head(10)\n",
    "count2 = df2.groupby(['product1','product2' ,'product3']).size().reset_index(name = 'count').sort_values(by = 'count' ,ascending = False).head(10)\n",
    "\n",
    "    "
   ]
  },
  {
   "cell_type": "code",
   "execution_count": 101,
   "metadata": {},
   "outputs": [
    {
     "data": {
      "text/html": [
       "<div>\n",
       "<style scoped>\n",
       "    .dataframe tbody tr th:only-of-type {\n",
       "        vertical-align: middle;\n",
       "    }\n",
       "\n",
       "    .dataframe tbody tr th {\n",
       "        vertical-align: top;\n",
       "    }\n",
       "\n",
       "    .dataframe thead th {\n",
       "        text-align: right;\n",
       "    }\n",
       "</style>\n",
       "<table border=\"1\" class=\"dataframe\">\n",
       "  <thead>\n",
       "    <tr style=\"text-align: right;\">\n",
       "      <th></th>\n",
       "      <th>product1</th>\n",
       "      <th>product2</th>\n",
       "      <th>count</th>\n",
       "    </tr>\n",
       "  </thead>\n",
       "  <tbody>\n",
       "    <tr>\n",
       "      <th>10138</th>\n",
       "      <td>ebf9bc6cd600eadd681384e3116fda85</td>\n",
       "      <td>5ddab10d5e0a23acb99acf56b62b3276</td>\n",
       "      <td>882</td>\n",
       "    </tr>\n",
       "    <tr>\n",
       "      <th>10139</th>\n",
       "      <td>ebf9bc6cd600eadd681384e3116fda85</td>\n",
       "      <td>ebf9bc6cd600eadd681384e3116fda85</td>\n",
       "      <td>862</td>\n",
       "    </tr>\n",
       "    <tr>\n",
       "      <th>222</th>\n",
       "      <td>0554911df28fda9fd668ce5ba5949695</td>\n",
       "      <td>0554911df28fda9fd668ce5ba5949695</td>\n",
       "      <td>703</td>\n",
       "    </tr>\n",
       "    <tr>\n",
       "      <th>1213</th>\n",
       "      <td>1aecdb5fa3add74e385f25c6c527a462</td>\n",
       "      <td>1aecdb5fa3add74e385f25c6c527a462</td>\n",
       "      <td>406</td>\n",
       "    </tr>\n",
       "    <tr>\n",
       "      <th>2898</th>\n",
       "      <td>422879e10f46682990de24d770e7f83d</td>\n",
       "      <td>422879e10f46682990de24d770e7f83d</td>\n",
       "      <td>326</td>\n",
       "    </tr>\n",
       "    <tr>\n",
       "      <th>6069</th>\n",
       "      <td>8d37ee446981d3790967d0268d6cfc81</td>\n",
       "      <td>8d37ee446981d3790967d0268d6cfc81</td>\n",
       "      <td>325</td>\n",
       "    </tr>\n",
       "    <tr>\n",
       "      <th>10263</th>\n",
       "      <td>eea3e07f864a0a1389726d8a5f31c3f6</td>\n",
       "      <td>eea3e07f864a0a1389726d8a5f31c3f6</td>\n",
       "      <td>276</td>\n",
       "    </tr>\n",
       "    <tr>\n",
       "      <th>175</th>\n",
       "      <td>0449db5eede617c5fd413071d582f038</td>\n",
       "      <td>0449db5eede617c5fd413071d582f038</td>\n",
       "      <td>276</td>\n",
       "    </tr>\n",
       "    <tr>\n",
       "      <th>788</th>\n",
       "      <td>11250b0d4b709fee92441c5f34122aed</td>\n",
       "      <td>11250b0d4b709fee92441c5f34122aed</td>\n",
       "      <td>276</td>\n",
       "    </tr>\n",
       "    <tr>\n",
       "      <th>3430</th>\n",
       "      <td>4e53a453045707bbc5febcf5f32097ac</td>\n",
       "      <td>4e53a453045707bbc5febcf5f32097ac</td>\n",
       "      <td>276</td>\n",
       "    </tr>\n",
       "  </tbody>\n",
       "</table>\n",
       "</div>"
      ],
      "text/plain": [
       "                               product1                          product2  \\\n",
       "10138  ebf9bc6cd600eadd681384e3116fda85  5ddab10d5e0a23acb99acf56b62b3276   \n",
       "10139  ebf9bc6cd600eadd681384e3116fda85  ebf9bc6cd600eadd681384e3116fda85   \n",
       "222    0554911df28fda9fd668ce5ba5949695  0554911df28fda9fd668ce5ba5949695   \n",
       "1213   1aecdb5fa3add74e385f25c6c527a462  1aecdb5fa3add74e385f25c6c527a462   \n",
       "2898   422879e10f46682990de24d770e7f83d  422879e10f46682990de24d770e7f83d   \n",
       "6069   8d37ee446981d3790967d0268d6cfc81  8d37ee446981d3790967d0268d6cfc81   \n",
       "10263  eea3e07f864a0a1389726d8a5f31c3f6  eea3e07f864a0a1389726d8a5f31c3f6   \n",
       "175    0449db5eede617c5fd413071d582f038  0449db5eede617c5fd413071d582f038   \n",
       "788    11250b0d4b709fee92441c5f34122aed  11250b0d4b709fee92441c5f34122aed   \n",
       "3430   4e53a453045707bbc5febcf5f32097ac  4e53a453045707bbc5febcf5f32097ac   \n",
       "\n",
       "       count  \n",
       "10138    882  \n",
       "10139    862  \n",
       "222      703  \n",
       "1213     406  \n",
       "2898     326  \n",
       "6069     325  \n",
       "10263    276  \n",
       "175      276  \n",
       "788      276  \n",
       "3430     276  "
      ]
     },
     "execution_count": 101,
     "metadata": {},
     "output_type": "execute_result"
    }
   ],
   "source": [
    "count1"
   ]
  },
  {
   "cell_type": "markdown",
   "metadata": {},
   "source": [
    "4. Payment Behaviour\n",
    "a. How customers are paying?\n",
    "b. Which payment channels are used by most customers?"
   ]
  },
  {
   "cell_type": "code",
   "execution_count": 171,
   "metadata": {},
   "outputs": [
    {
     "data": {
      "text/plain": [
       "payment_type\n",
       "UPI            19614\n",
       "credit_card    75991\n",
       "debit_card      1521\n",
       "voucher         3766\n",
       "Name: customer_id, dtype: int64"
      ]
     },
     "execution_count": 171,
     "metadata": {},
     "output_type": "execute_result"
    }
   ],
   "source": [
    "final_data.groupby('payment_type')['customer_id'].nunique()"
   ]
  },
  {
   "cell_type": "code",
   "execution_count": 241,
   "metadata": {},
   "outputs": [
    {
     "data": {
      "image/png": "[encoded data removed]",
      "text/plain": [
       "<Figure size 432x288 with 1 Axes>"
      ]
     },
     "metadata": {
      "needs_background": "light"
     },
     "output_type": "display_data"
    }
   ],
   "source": [
    "final_data.groupby('payment_type')['customer_id'].nunique().plot(kind = 'bar')\n",
    "plt.title('most used payment channels by customers')\n",
    "plt.show()"
   ]
  },
  {
   "cell_type": "code",
   "execution_count": 169,
   "metadata": {},
   "outputs": [
    {
     "data": {
      "text/plain": [
       "credit_card    87266\n",
       "UPI            23018\n",
       "voucher         6332\n",
       "debit_card      1699\n",
       "Name: payment_type, dtype: int64"
      ]
     },
     "execution_count": 169,
     "metadata": {},
     "output_type": "execute_result"
    }
   ],
   "source": [
    "##how customers are paying\n",
    "final_data['payment_type'].value_counts()"
   ]
  },
  {
   "cell_type": "code",
   "execution_count": 197,
   "metadata": {},
   "outputs": [
    {
     "data": {
      "image/png": "[encoded data removed]",
      "text/plain": [
       "<Figure size 432x288 with 1 Axes>"
      ]
     },
     "metadata": {
      "needs_background": "light"
     },
     "output_type": "display_data"
    }
   ],
   "source": [
    "final_data['payment_type'].value_counts().plot(kind ='bar')\n",
    "plt.title('how customers are paying')\n",
    "plt.show()"
   ]
  },
  {
   "cell_type": "markdown",
   "metadata": {},
   "source": [
    "5. Customer satisfaction towards category & product\n",
    "a. Which categories (top 10) are maximum rated & minimum rated?\n",
    "b. Which products (top10) are maximum rated & minimum rated?\n",
    "c. Average rating by location, seller, product, category, month etc."
   ]
  },
  {
   "cell_type": "code",
   "execution_count": 177,
   "metadata": {},
   "outputs": [
    {
     "data": {
      "text/html": [
       "<div>\n",
       "<style scoped>\n",
       "    .dataframe tbody tr th:only-of-type {\n",
       "        vertical-align: middle;\n",
       "    }\n",
       "\n",
       "    .dataframe tbody tr th {\n",
       "        vertical-align: top;\n",
       "    }\n",
       "\n",
       "    .dataframe thead th {\n",
       "        text-align: right;\n",
       "    }\n",
       "</style>\n",
       "<table border=\"1\" class=\"dataframe\">\n",
       "  <thead>\n",
       "    <tr style=\"text-align: right;\">\n",
       "      <th></th>\n",
       "      <th>product_category_name</th>\n",
       "      <th>review_score</th>\n",
       "    </tr>\n",
       "  </thead>\n",
       "  <tbody>\n",
       "    <tr>\n",
       "      <th>11</th>\n",
       "      <td>Cds_Dvds_Musicals</td>\n",
       "      <td>4.642857</td>\n",
       "    </tr>\n",
       "    <tr>\n",
       "      <th>29</th>\n",
       "      <td>Fashion_Childrens_Clothes</td>\n",
       "      <td>4.500000</td>\n",
       "    </tr>\n",
       "    <tr>\n",
       "      <th>8</th>\n",
       "      <td>Books_General_Interest</td>\n",
       "      <td>4.431858</td>\n",
       "    </tr>\n",
       "    <tr>\n",
       "      <th>9</th>\n",
       "      <td>Books_Imported</td>\n",
       "      <td>4.419355</td>\n",
       "    </tr>\n",
       "    <tr>\n",
       "      <th>10</th>\n",
       "      <td>Books_Technical</td>\n",
       "      <td>4.345588</td>\n",
       "    </tr>\n",
       "    <tr>\n",
       "      <th>22</th>\n",
       "      <td>Costruction_Tools_Tools</td>\n",
       "      <td>4.333333</td>\n",
       "    </tr>\n",
       "    <tr>\n",
       "      <th>64</th>\n",
       "      <td>Small_Appliances_Home_Oven_And_Coffee</td>\n",
       "      <td>4.320513</td>\n",
       "    </tr>\n",
       "    <tr>\n",
       "      <th>37</th>\n",
       "      <td>Food_Drink</td>\n",
       "      <td>4.312715</td>\n",
       "    </tr>\n",
       "    <tr>\n",
       "      <th>53</th>\n",
       "      <td>Luggage_Accessories</td>\n",
       "      <td>4.290628</td>\n",
       "    </tr>\n",
       "    <tr>\n",
       "      <th>32</th>\n",
       "      <td>Fashion_Sport</td>\n",
       "      <td>4.258065</td>\n",
       "    </tr>\n",
       "  </tbody>\n",
       "</table>\n",
       "</div>"
      ],
      "text/plain": [
       "                    product_category_name  review_score\n",
       "11                      Cds_Dvds_Musicals      4.642857\n",
       "29              Fashion_Childrens_Clothes      4.500000\n",
       "8                  Books_General_Interest      4.431858\n",
       "9                          Books_Imported      4.419355\n",
       "10                        Books_Technical      4.345588\n",
       "22                Costruction_Tools_Tools      4.333333\n",
       "64  Small_Appliances_Home_Oven_And_Coffee      4.320513\n",
       "37                             Food_Drink      4.312715\n",
       "53                    Luggage_Accessories      4.290628\n",
       "32                          Fashion_Sport      4.258065"
      ]
     },
     "execution_count": 177,
     "metadata": {},
     "output_type": "execute_result"
    }
   ],
   "source": [
    "final_data.groupby('product_category_name')['review_score'].mean().reset_index().sort_values(by = 'review_score' , ascending = False).head(10)"
   ]
  },
  {
   "cell_type": "code",
   "execution_count": 178,
   "metadata": {},
   "outputs": [
    {
     "data": {
      "text/html": [
       "<div>\n",
       "<style scoped>\n",
       "    .dataframe tbody tr th:only-of-type {\n",
       "        vertical-align: middle;\n",
       "    }\n",
       "\n",
       "    .dataframe tbody tr th {\n",
       "        vertical-align: top;\n",
       "    }\n",
       "\n",
       "    .dataframe thead th {\n",
       "        text-align: right;\n",
       "    }\n",
       "</style>\n",
       "<table border=\"1\" class=\"dataframe\">\n",
       "  <thead>\n",
       "    <tr style=\"text-align: right;\">\n",
       "      <th></th>\n",
       "      <th>product_category_name</th>\n",
       "      <th>review_score</th>\n",
       "    </tr>\n",
       "  </thead>\n",
       "  <tbody>\n",
       "    <tr>\n",
       "      <th>19</th>\n",
       "      <td>Construction_Tools_Safety</td>\n",
       "      <td>3.834171</td>\n",
       "    </tr>\n",
       "    <tr>\n",
       "      <th>4</th>\n",
       "      <td>Audio</td>\n",
       "      <td>3.824147</td>\n",
       "    </tr>\n",
       "    <tr>\n",
       "      <th>41</th>\n",
       "      <td>Furniture_Mattress_And_Upholstery</td>\n",
       "      <td>3.804878</td>\n",
       "    </tr>\n",
       "    <tr>\n",
       "      <th>27</th>\n",
       "      <td>Fashio_Female_Clothing</td>\n",
       "      <td>3.780000</td>\n",
       "    </tr>\n",
       "    <tr>\n",
       "      <th>34</th>\n",
       "      <td>Fixed_Telephony</td>\n",
       "      <td>3.661765</td>\n",
       "    </tr>\n",
       "    <tr>\n",
       "      <th>30</th>\n",
       "      <td>Fashion_Male_Clothing</td>\n",
       "      <td>3.531034</td>\n",
       "    </tr>\n",
       "    <tr>\n",
       "      <th>57</th>\n",
       "      <td>Office_Furniture</td>\n",
       "      <td>3.516779</td>\n",
       "    </tr>\n",
       "    <tr>\n",
       "      <th>46</th>\n",
       "      <td>Home_Comfort_2</td>\n",
       "      <td>3.387097</td>\n",
       "    </tr>\n",
       "    <tr>\n",
       "      <th>23</th>\n",
       "      <td>Diapers_And_Hygiene</td>\n",
       "      <td>3.256410</td>\n",
       "    </tr>\n",
       "    <tr>\n",
       "      <th>61</th>\n",
       "      <td>Security_And_Services</td>\n",
       "      <td>2.500000</td>\n",
       "    </tr>\n",
       "  </tbody>\n",
       "</table>\n",
       "</div>"
      ],
      "text/plain": [
       "                product_category_name  review_score\n",
       "19          Construction_Tools_Safety      3.834171\n",
       "4                               Audio      3.824147\n",
       "41  Furniture_Mattress_And_Upholstery      3.804878\n",
       "27             Fashio_Female_Clothing      3.780000\n",
       "34                    Fixed_Telephony      3.661765\n",
       "30              Fashion_Male_Clothing      3.531034\n",
       "57                   Office_Furniture      3.516779\n",
       "46                     Home_Comfort_2      3.387097\n",
       "23                Diapers_And_Hygiene      3.256410\n",
       "61              Security_And_Services      2.500000"
      ]
     },
     "execution_count": 178,
     "metadata": {},
     "output_type": "execute_result"
    }
   ],
   "source": [
    "final_data.groupby('product_category_name')['review_score'].mean().reset_index().sort_values(by = 'review_score' , ascending = False).tail(10)"
   ]
  },
  {
   "cell_type": "code",
   "execution_count": 179,
   "metadata": {},
   "outputs": [
    {
     "data": {
      "text/html": [
       "<div>\n",
       "<style scoped>\n",
       "    .dataframe tbody tr th:only-of-type {\n",
       "        vertical-align: middle;\n",
       "    }\n",
       "\n",
       "    .dataframe tbody tr th {\n",
       "        vertical-align: top;\n",
       "    }\n",
       "\n",
       "    .dataframe thead th {\n",
       "        text-align: right;\n",
       "    }\n",
       "</style>\n",
       "<table border=\"1\" class=\"dataframe\">\n",
       "  <thead>\n",
       "    <tr style=\"text-align: right;\">\n",
       "      <th></th>\n",
       "      <th>product_id</th>\n",
       "      <th>review_score</th>\n",
       "    </tr>\n",
       "  </thead>\n",
       "  <tbody>\n",
       "    <tr>\n",
       "      <th>0</th>\n",
       "      <td>00066f42aeeb9f3007548bb9d3f33c38</td>\n",
       "      <td>5.0</td>\n",
       "    </tr>\n",
       "    <tr>\n",
       "      <th>17330</th>\n",
       "      <td>86743ff92eee3d16b7df59cddd583b8c</td>\n",
       "      <td>5.0</td>\n",
       "    </tr>\n",
       "    <tr>\n",
       "      <th>17345</th>\n",
       "      <td>868ceb027ab706a4dee42e2220006b85</td>\n",
       "      <td>5.0</td>\n",
       "    </tr>\n",
       "    <tr>\n",
       "      <th>17343</th>\n",
       "      <td>868969d3a93aeeab7bfcd4fc3d3d65de</td>\n",
       "      <td>5.0</td>\n",
       "    </tr>\n",
       "    <tr>\n",
       "      <th>17342</th>\n",
       "      <td>868766ed2172644fdd977d6bd395a107</td>\n",
       "      <td>5.0</td>\n",
       "    </tr>\n",
       "    <tr>\n",
       "      <th>17340</th>\n",
       "      <td>8684bd8f93b4f4038d07188a23811e93</td>\n",
       "      <td>5.0</td>\n",
       "    </tr>\n",
       "    <tr>\n",
       "      <th>17335</th>\n",
       "      <td>867c96d2bb67aba6500a4c509cf76072</td>\n",
       "      <td>5.0</td>\n",
       "    </tr>\n",
       "    <tr>\n",
       "      <th>17334</th>\n",
       "      <td>867b820367ec206b38a357f2c12454b7</td>\n",
       "      <td>5.0</td>\n",
       "    </tr>\n",
       "    <tr>\n",
       "      <th>17333</th>\n",
       "      <td>867901d7e8488fb97f1fb538c09d476e</td>\n",
       "      <td>5.0</td>\n",
       "    </tr>\n",
       "    <tr>\n",
       "      <th>17325</th>\n",
       "      <td>865bfa00c1dad8f4146d3c2765f051ca</td>\n",
       "      <td>5.0</td>\n",
       "    </tr>\n",
       "  </tbody>\n",
       "</table>\n",
       "</div>"
      ],
      "text/plain": [
       "                             product_id  review_score\n",
       "0      00066f42aeeb9f3007548bb9d3f33c38           5.0\n",
       "17330  86743ff92eee3d16b7df59cddd583b8c           5.0\n",
       "17345  868ceb027ab706a4dee42e2220006b85           5.0\n",
       "17343  868969d3a93aeeab7bfcd4fc3d3d65de           5.0\n",
       "17342  868766ed2172644fdd977d6bd395a107           5.0\n",
       "17340  8684bd8f93b4f4038d07188a23811e93           5.0\n",
       "17335  867c96d2bb67aba6500a4c509cf76072           5.0\n",
       "17334  867b820367ec206b38a357f2c12454b7           5.0\n",
       "17333  867901d7e8488fb97f1fb538c09d476e           5.0\n",
       "17325  865bfa00c1dad8f4146d3c2765f051ca           5.0"
      ]
     },
     "execution_count": 179,
     "metadata": {},
     "output_type": "execute_result"
    }
   ],
   "source": [
    "final_data.groupby('product_id')['review_score'].mean().reset_index().sort_values(by = 'review_score' , ascending = False).head(10)"
   ]
  },
  {
   "cell_type": "code",
   "execution_count": 180,
   "metadata": {},
   "outputs": [
    {
     "data": {
      "text/html": [
       "<div>\n",
       "<style scoped>\n",
       "    .dataframe tbody tr th:only-of-type {\n",
       "        vertical-align: middle;\n",
       "    }\n",
       "\n",
       "    .dataframe tbody tr th {\n",
       "        vertical-align: top;\n",
       "    }\n",
       "\n",
       "    .dataframe thead th {\n",
       "        text-align: right;\n",
       "    }\n",
       "</style>\n",
       "<table border=\"1\" class=\"dataframe\">\n",
       "  <thead>\n",
       "    <tr style=\"text-align: right;\">\n",
       "      <th></th>\n",
       "      <th>product_id</th>\n",
       "      <th>review_score</th>\n",
       "    </tr>\n",
       "  </thead>\n",
       "  <tbody>\n",
       "    <tr>\n",
       "      <th>5798</th>\n",
       "      <td>2c14830d33060649974768f49b7abd89</td>\n",
       "      <td>1.0</td>\n",
       "    </tr>\n",
       "    <tr>\n",
       "      <th>8155</th>\n",
       "      <td>3ea7e516d573a0445abc7cab48949be0</td>\n",
       "      <td>1.0</td>\n",
       "    </tr>\n",
       "    <tr>\n",
       "      <th>29029</th>\n",
       "      <td>e15014500e7941bc3fae1757c3cd48ad</td>\n",
       "      <td>1.0</td>\n",
       "    </tr>\n",
       "    <tr>\n",
       "      <th>13628</th>\n",
       "      <td>6947c3397dae24c49aa4b34b68bf3b09</td>\n",
       "      <td>1.0</td>\n",
       "    </tr>\n",
       "    <tr>\n",
       "      <th>13627</th>\n",
       "      <td>69474edea9d9def8b68de248373f1ad4</td>\n",
       "      <td>1.0</td>\n",
       "    </tr>\n",
       "    <tr>\n",
       "      <th>19122</th>\n",
       "      <td>94f8c822a2c9d476088ac45227f8226c</td>\n",
       "      <td>1.0</td>\n",
       "    </tr>\n",
       "    <tr>\n",
       "      <th>13623</th>\n",
       "      <td>69428fb5c0da1fac708bdb33868b42d8</td>\n",
       "      <td>1.0</td>\n",
       "    </tr>\n",
       "    <tr>\n",
       "      <th>13621</th>\n",
       "      <td>693e8a3550dfe12cd2a3f2a3f01b6130</td>\n",
       "      <td>1.0</td>\n",
       "    </tr>\n",
       "    <tr>\n",
       "      <th>29036</th>\n",
       "      <td>e15f2eb4bd9c94996e56cc76c1394361</td>\n",
       "      <td>1.0</td>\n",
       "    </tr>\n",
       "    <tr>\n",
       "      <th>9831</th>\n",
       "      <td>4bae12e58c9b828e1302a2cad437b80a</td>\n",
       "      <td>1.0</td>\n",
       "    </tr>\n",
       "  </tbody>\n",
       "</table>\n",
       "</div>"
      ],
      "text/plain": [
       "                             product_id  review_score\n",
       "5798   2c14830d33060649974768f49b7abd89           1.0\n",
       "8155   3ea7e516d573a0445abc7cab48949be0           1.0\n",
       "29029  e15014500e7941bc3fae1757c3cd48ad           1.0\n",
       "13628  6947c3397dae24c49aa4b34b68bf3b09           1.0\n",
       "13627  69474edea9d9def8b68de248373f1ad4           1.0\n",
       "19122  94f8c822a2c9d476088ac45227f8226c           1.0\n",
       "13623  69428fb5c0da1fac708bdb33868b42d8           1.0\n",
       "13621  693e8a3550dfe12cd2a3f2a3f01b6130           1.0\n",
       "29036  e15f2eb4bd9c94996e56cc76c1394361           1.0\n",
       "9831   4bae12e58c9b828e1302a2cad437b80a           1.0"
      ]
     },
     "execution_count": 180,
     "metadata": {},
     "output_type": "execute_result"
    }
   ],
   "source": [
    "final_data.groupby('product_id')['review_score'].mean().reset_index().sort_values(by = 'review_score' , ascending = False).tail(10)"
   ]
  },
  {
   "cell_type": "markdown",
   "metadata": {},
   "source": [
    "c. Average rating by location, seller, product, category, month etc."
   ]
  },
  {
   "cell_type": "code",
   "execution_count": 256,
   "metadata": {},
   "outputs": [
    {
     "data": {
      "text/plain": [
       "customer_state\n",
       "Andhra Pradesh       3.995151\n",
       "Arunachal Pradesh    4.024242\n",
       "Chhattisgarh         4.031524\n",
       "Delhi                4.029000\n",
       "Goa                  4.800000\n",
       "Gujarat              4.037570\n",
       "Haryana              4.117066\n",
       "Himachal Pradesh     3.988399\n",
       "Jammu & Kashmir      3.998362\n",
       "Karnataka            4.015122\n",
       "Kerala               4.051685\n",
       "Madhya Pradesh       3.996443\n",
       "Maharashtra          4.093023\n",
       "Orissa               4.087393\n",
       "Punjab               4.166882\n",
       "Rajasthan            4.098592\n",
       "Tamil Nadu           4.112464\n",
       "Uttar Pradesh        4.132203\n",
       "Uttaranchal          3.718182\n",
       "West Bengal          4.002342\n",
       "Name: review_score, dtype: float64"
      ]
     },
     "execution_count": 256,
     "metadata": {},
     "output_type": "execute_result"
    }
   ],
   "source": [
    "##average rating by location\n",
    "final_data.groupby('customer_state')['review_score'].mean()"
   ]
  },
  {
   "cell_type": "code",
   "execution_count": 257,
   "metadata": {},
   "outputs": [
    {
     "data": {
      "text/plain": [
       "seller_id\n",
       "0015a82c2db000af6aaaf3ae2ecb0532    3.666667\n",
       "001cca7ae9ae17fb1caed9dfb1094831    3.883817\n",
       "001e6ad469a905060d959994f1b41e4f    1.000000\n",
       "002100f778ceb8431b7a1020ff7ab48f    4.033898\n",
       "003554e2dce176b5555353e4f3555ac8    5.000000\n",
       "                                      ...   \n",
       "ffcfefa19b08742c5d315f2791395ee5    1.000000\n",
       "ffdd9f82b9a447f6f8d4b91554cc7dd3    4.285714\n",
       "ffeee66ac5d5a62fe688b9d26f83f534    4.214286\n",
       "fffd5413c0700ac820c7069d66d98c89    3.838710\n",
       "ffff564a4f9085cd26170f4732393726    2.100000\n",
       "Name: review_score, Length: 3095, dtype: float64"
      ]
     },
     "execution_count": 257,
     "metadata": {},
     "output_type": "execute_result"
    }
   ],
   "source": [
    "##average rating by seller\n",
    "final_data.groupby('seller_id')['review_score'].mean()\n",
    "\n"
   ]
  },
  {
   "cell_type": "code",
   "execution_count": 259,
   "metadata": {},
   "outputs": [
    {
     "data": {
      "text/plain": [
       "purchase_month\n",
       "1     3.943279\n",
       "2     3.788968\n",
       "3     3.781311\n",
       "4     4.036545\n",
       "5     4.118807\n",
       "6     4.156802\n",
       "7     4.169240\n",
       "8     4.204288\n",
       "9     4.121306\n",
       "10    4.011661\n",
       "11    3.825638\n",
       "12    3.927987\n",
       "Name: review_score, dtype: float64"
      ]
     },
     "execution_count": 259,
     "metadata": {},
     "output_type": "execute_result"
    }
   ],
   "source": [
    "##average rating by month\n",
    "final_data.groupby('purchase_month')['review_score'].mean()\n"
   ]
  },
  {
   "cell_type": "markdown",
   "metadata": {},
   "source": [
    "##insights\n",
    "1. retention rate is 0 . every month you are acquiring new customers. that is good but retention rate should be not 0. \n",
    "2. most of the revenue generrated and quantities are sold in andhra pradesh and gujarat\n",
    "3.most of the customers are paying through credit cards\n",
    "4. generated 1.66 cr revenue\n",
    "5. most of the sales are in summer season\n",
    "6.more revenue generated on monday , tues rather than sat ,sum you have low revenue\n",
    "7.top 5 revenue generated product categories - Health_Beauty ,Watches_Gifts ,Bed_Bath_Table ,Sports_Leisure ,Computers_Accessories \n",
    "8.andhra pradesh have good revenue generation but the reviews are ok ok.\n",
    "9.(ebf9bc6cd600eadd681384e3116fda85 , 5ddab10d5e0a23acb99acf56b62b3276)these products have great combination\n",
    "(ebf9bc6cd600eadd681384e3116fda85 , ebf9bc6cd600eadd681384e3116fda85)\n",
    "(0554911df28fda9fd668ce5ba5949695 , 0554911df28fda9fd668ce5ba5949695)"
   ]
  },
  {
   "cell_type": "code",
   "execution_count": null,
   "metadata": {},
   "outputs": [],
   "source": []
  }
 ],
 "metadata": {
  "kernelspec": {
   "display_name": "Python 3",
   "language": "python",
   "name": "python3"
  },
  "language_info": {
   "codemirror_mode": {
    "name": "ipython",
    "version": 3
   },
   "file_extension": ".py",
   "mimetype": "text/x-python",
   "name": "python",
   "nbconvert_exporter": "python",
   "pygments_lexer": "ipython3",
   "version": "3.8.5"
  }
 },
 "nbformat": 4,
 "nbformat_minor": 4
}
